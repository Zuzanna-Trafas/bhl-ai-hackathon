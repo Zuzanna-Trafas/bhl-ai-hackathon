{
 "cells": [
  {
   "cell_type": "markdown",
   "metadata": {},
   "source": [
    "# Sprawdzanie dokładności modelu\n",
    "Plik test_data.csv jest dostępny tylko dla jury. Zawiera dane testowe - jednakowe dla wszystkich drużyn. Jest w takim samym formacie co zbiór, który otrzymaliście wraz z zadaniem, tylko już z czystymi danymi."
   ]
  },
  {
   "cell_type": "code",
   "execution_count": null,
   "metadata": {},
   "outputs": [],
   "source": [
    "!pip install xgboost==1.3.3\n",
    "!pip install"
   ]
  },
  {
   "cell_type": "code",
   "execution_count": null,
   "metadata": {},
   "outputs": [],
   "source": [
    "import pandas as pd\n",
    "import numpy as np"
   ]
  },
  {
   "cell_type": "code",
   "execution_count": null,
   "metadata": {},
   "outputs": [],
   "source": [
    "test_data = pd.read_csv(\"final_train.csv\")"
   ]
  },
  {
   "cell_type": "markdown",
   "metadata": {},
   "source": [
    "### Miejsce na twój kod:"
   ]
  },
  {
   "cell_type": "code",
   "execution_count": null,
   "metadata": {},
   "outputs": [],
   "source": [
    "import pickle\n",
    "from xgboost import XGBClassifier\n",
    "\n",
    "model = pickle.load(open('ghost_model.dat', \"rb\"))\n",
    "\n",
    "features = ['angle(X,gravityMean)',\n",
    "            'fBodyAccJerk-mad()-Z',\n",
    "            'fBodyAccMag-meanFreq()',\n",
    "            'tBodyAcc-arCoeff()-X,1',\n",
    "            'tGravityAcc-entropy()-Y',\n",
    "            'fBodyGyro-bandsEnergy()-1,16.2',\n",
    "            'tBodyGyroJerk-iqr()-X',\n",
    "            'fBodyAcc-kurtosis()-X',\n",
    "            'fBodyAccJerk-mean()-Z',\n",
    "            'fBodyAccMag-mean()',\n",
    "            'fBodyBodyGyroJerkMag-skewness()',\n",
    "            'tBodyAcc-min()-Z',\n",
    "            'tBodyGyro-sma()',\n",
    "            'tBodyGyroJerk-arCoeff()-Z,2',\n",
    "            'tBodyGyroJerkMag-mad()',\n",
    "            'tGravityAccMag-arCoeff()1',\n",
    "            'fBodyAccMag-energy()',\n",
    "            'fBodyAccJerk-kurtosis()-Z',\n",
    "            'fBodyAccJerk-skewness()-X',\n",
    "            'fBodyGyro-mean()-Z',\n",
    "            'tBodyAcc-max()-Z',\n",
    "            'tBodyAccJerk-arCoeff()-Z,3',\n",
    "            'tBodyGyro-arCoeff()-X,4',\n",
    "            'tBodyGyro-max()-Z',\n",
    "            'tGravityAcc-mean()-X',\n",
    "            'tGravityAcc-mean()-Z',\n",
    "            'fBodyAccJerk-bandsEnergy()-1,16.1',\n",
    "            'fBodyAccJerk-sma()',\n",
    "            'fBodyAccMag-entropy()',\n",
    "            'fBodyBodyGyroJerkMag-sma()',\n",
    "            'fBodyGyro-entropy()-Y',\n",
    "            'tBodyGyro-min()-Y',\n",
    "            'fBodyBodyGyroJerkMag-max()',\n",
    "            'angle(tBodyGyroMean,gravityMean)',\n",
    "            'tBodyAccJerk-iqr()-Y',\n",
    "            'tBodyGyroJerk-correlation()-X,Z',\n",
    "            'tGravityAcc-arCoeff()-Z,4',\n",
    "            'tBodyGyroJerk-std()-X',\n",
    "            'fBodyBodyAccJerkMag-max()',\n",
    "            'tBodyAcc-sma()',\n",
    "            'tBodyAccMag-mean()',\n",
    "            'tBodyGyro-correlation()-X,Y',\n",
    "            'fBodyAcc-std()-Y',\n",
    "            'fBodyAccJerk-meanFreq()-X',\n",
    "            'tBodyGyro-iqr()-Y',\n",
    "            'tGravityAccMag-arCoeff()4',\n",
    "            'fBodyBodyAccJerkMag-skewness()',\n",
    "            'tGravityAcc-min()-Z',\n",
    "            'fBodyGyro-bandsEnergy()-1,8.2',\n",
    "            'fBodyAcc-std()-X',\n",
    "            'tBodyAccMag-energy()',\n",
    "            'fBodyAcc-bandsEnergy()-9,16',\n",
    "            'fBodyGyro-kurtosis()-Z',\n",
    "            'fBodyAccJerk-std()-Z',\n",
    "            'tBodyAccJerk-min()-Y',\n",
    "            'tBodyAccMag-mad()',\n",
    "            'tBodyGyro-mad()-X',\n",
    "            'fBodyGyro-max()-X',\n",
    "            'tGravityAcc-arCoeff()-Y,4',\n",
    "            'tBodyAcc-entropy()-Y',\n",
    "            'fBodyAcc-bandsEnergy()-1,16',\n",
    "            'fBodyAccJerk-meanFreq()-Z',\n",
    "            'tBodyAcc-std()-Z',\n",
    "            'tGravityAcc-max()-X',\n",
    "            'tGravityAcc-max()-Z',\n",
    "            'tBodyGyro-iqr()-Z',\n",
    "            'fBodyAcc-max()-Y',\n",
    "            'fBodyAcc-sma()',\n",
    "            'fBodyAccJerk-bandsEnergy()-1,8',\n",
    "            'fBodyGyro-skewness()-Z',\n",
    "            'fBodyAccMag-mad()',\n",
    "            'fBodyGyro-mad()-X',\n",
    "            'tGravityAcc-energy()-Y',\n",
    "            'tGravityAcc-arCoeff()-Z,3',\n",
    "            'tBodyAcc-max()-X',\n",
    "            'tBodyAccJerk-max()-Z',\n",
    "            'tBodyAccJerk-entropy()-X',\n",
    "            'fBodyGyro-maxInds-Z',\n",
    "            'fBodyAccMag-std()',\n",
    "            'tBodyGyro-iqr()-X',\n",
    "            'tBodyGyro-max()-X',\n",
    "            'tGravityAcc-mean()-Y']"
   ]
  },
  {
   "cell_type": "code",
   "execution_count": null,
   "metadata": {},
   "outputs": [],
   "source": [
    "X = test_data.loc[:, features]\n",
    "\n",
    "predicted = []\n",
    "\n",
    "for idx, x_i in X.iterrows():\n",
    "    if x_i['angle(X,gravityMean)'] > -1.553:\n",
    "        predicted.append('LAYING')\n",
    "    else:\n",
    "        predicted.append(model.predict(pd.DataFrame(x_i.iloc[1:,]).T)[0])"
   ]
  },
  {
   "cell_type": "markdown",
   "metadata": {},
   "source": [
    "### Sprawdzanie dokładności:\n",
    "Predicted - zmienna przechowująca przewidzianą aktywność. Poniższa linijka powinna zwrócić wartość 0-1."
   ]
  },
  {
   "cell_type": "code",
   "execution_count": null,
   "metadata": {},
   "outputs": [],
   "source": [
    "np.mean(predicted == test_data.Activity)"
   ]
  }
 ],
 "metadata": {
  "kernelspec": {
   "display_name": "Python 3",
   "language": "python",
   "name": "python3"
  },
  "language_info": {
   "codemirror_mode": {
    "name": "ipython",
    "version": 3
   },
   "file_extension": ".py",
   "mimetype": "text/x-python",
   "name": "python",
   "nbconvert_exporter": "python",
   "pygments_lexer": "ipython3",
   "version": "3.7.6"
  },
  "toc": {
   "base_numbering": 1,
   "nav_menu": {},
   "number_sections": true,
   "sideBar": true,
   "skip_h1_title": false,
   "title_cell": "Table of Contents",
   "title_sidebar": "Contents",
   "toc_cell": false,
   "toc_position": {},
   "toc_section_display": true,
   "toc_window_display": false
  }
 },
 "nbformat": 4,
 "nbformat_minor": 4
}
