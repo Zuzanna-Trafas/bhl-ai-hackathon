{
 "cells": [
  {
   "cell_type": "markdown",
   "metadata": {
    "cell_id": "00000-87655270-89a0-46ec-a206-7266ac72fde5",
    "deepnote_cell_type": "markdown",
    "tags": []
   },
   "source": [
    "# Table of content\n",
    "1. [Modules import](#Modules-import)  \n",
    "2. [Data](#Data)  \n",
    "    1. [Loading training dataset](#Loading-training-dataset)\n",
    "    2. [Training set](#Training-set)\n",
    "    3. [Data cleaning and dimensionality reduction](#Data-cleaning-and-dimensionality-reduction)\n",
    "3. [Building classifier](#Building-classifier)  \n",
    "4. [Results](#Results)  \n",
    "    1. [Laying](#Laying)  \n",
    "    2. [Sitting](#Sitting)\n",
    "    3. [Standing](#Standing)\n",
    "    4. [Walking](#Walking)  \n",
    "    5. [Walking downstairs](#Walking-downstairs)  \n",
    "    6. [Walking upstairs](#Walking-upstairs)     \n",
    "5. [Buisness applications](#Buisness-applications)     \n",
    "6. [Bibliography](#Bibliography)"
   ]
  },
  {
   "cell_type": "markdown",
   "metadata": {
    "cell_id": "00000-444ccdf7-75f3-4368-8b40-f479fa47a4b9",
    "deepnote_cell_type": "markdown"
   },
   "source": [
    "## Modules import"
   ]
  },
  {
   "cell_type": "code",
   "execution_count": 1,
   "metadata": {
    "cell_id": "00001-9ad498af-e91d-4511-8197-d81148c8cd30",
    "deepnote_cell_type": "code",
    "deepnote_to_be_reexecuted": false,
    "execution_millis": 339,
    "execution_start": 1618041758864,
    "id": "tkk-DYqp83Ic",
    "scrolled": true,
    "source_hash": "7c99d2f5"
   },
   "outputs": [
    {
     "name": "stderr",
     "output_type": "stream",
     "text": [
      "The sklearn.feature_selection.base module is  deprecated in version 0.22 and will be removed in version 0.24. The corresponding classes / functions should instead be imported from sklearn.feature_selection. Anything that cannot be imported from sklearn.feature_selection is now part of the private API.\n"
     ]
    }
   ],
   "source": [
    "import pandas as pd             \n",
    "import numpy as np\n",
    "\n",
    "import matplotlib.pyplot as plt \n",
    "import seaborn as sns\n",
    "from random import shuffle\n",
    "from plotnine import ggplot, geom_line, aes, stat_smooth, facet_wrap, theme_classic, ggtitle\n",
    "\n",
    "import shap\n",
    "\n",
    "from sklearn.model_selection import train_test_split                    \n",
    "from sklearn.inspection import plot_partial_dependence\n",
    "from sklearn.feature_selection import VarianceThreshold\n",
    "from sklearn.feature_selection import SelectKBest, mutual_info_classif  \n",
    "from sklearn.metrics import confusion_matrix\n",
    "from sklearn.linear_model import LogisticRegression\n",
    "\n",
    "import xgboost\n",
    "from xgboost import XGBClassifier\n",
    "\n",
    "import eli5\n",
    "from eli5.sklearn import PermutationImportance # obliczanie istotności cech"
   ]
  },
  {
   "cell_type": "markdown",
   "metadata": {
    "cell_id": "00002-6b432f73-e688-4d00-8a59-41f5b31bac18",
    "deepnote_cell_type": "markdown"
   },
   "source": [
    "# Data\n",
    "## Loading training dataset "
   ]
  },
  {
   "cell_type": "code",
   "execution_count": 2,
   "metadata": {
    "cell_id": "00003-c8663c3c-1d04-4428-9ff9-0e79becfae01",
    "deepnote_cell_type": "code",
    "deepnote_to_be_reexecuted": false,
    "execution_millis": 2972,
    "execution_start": 1618041889321,
    "source_hash": "f995f932"
   },
   "outputs": [],
   "source": [
    "train_data = pd.read_csv(\"../.data/final_train.csv\")"
   ]
  },
  {
   "cell_type": "markdown",
   "metadata": {},
   "source": [
    "## Training set\n",
    "The training dataset consists of 11,087 instances, each one represented by 573 attributes. A goal class is described in the `Activity` variable. There are six, nominal labels:\n",
    "* LAYING\n",
    "* SITTING\n",
    "* STANDING\n",
    "* WALKING\n",
    "* WALKING_UPSTAIRS\n",
    "* WALKING_DOWNSTAIRS\n",
    "\n",
    "Remaining variables are numeric, each one contains about 50 `NaN` values."
   ]
  },
  {
   "cell_type": "code",
   "execution_count": 3,
   "metadata": {
    "cell_id": "00005-d711c3bd-0908-4448-ab69-ddfeb56ee9ff",
    "colab": {
     "base_uri": "https://localhost:8080/",
     "height": 287
    },
    "deepnote_cell_type": "code",
    "deepnote_to_be_reexecuted": false,
    "execution_millis": 1758,
    "execution_start": 1618041898904,
    "id": "3CVe7ID5BBM7",
    "outputId": "6636b755-8029-43bb-f8d3-a5caab67291f",
    "scrolled": false,
    "source_hash": "33e89837"
   },
   "outputs": [
    {
     "data": {
      "text/html": [
       "<div>\n",
       "<style scoped>\n",
       "    .dataframe tbody tr th:only-of-type {\n",
       "        vertical-align: middle;\n",
       "    }\n",
       "\n",
       "    .dataframe tbody tr th {\n",
       "        vertical-align: top;\n",
       "    }\n",
       "\n",
       "    .dataframe thead th {\n",
       "        text-align: right;\n",
       "    }\n",
       "</style>\n",
       "<table border=\"1\" class=\"dataframe\">\n",
       "  <thead>\n",
       "    <tr style=\"text-align: right;\">\n",
       "      <th></th>\n",
       "      <th>Unnamed: 0</th>\n",
       "      <th>Activity</th>\n",
       "      <th>angle(X,gravityMean)</th>\n",
       "      <th>angle(Y,gravityMean)</th>\n",
       "      <th>angle(Z,gravityMean)</th>\n",
       "      <th>angle(tBodyAccJerkMean),gravityMean)</th>\n",
       "      <th>angle(tBodyAccMean,gravity)</th>\n",
       "      <th>angle(tBodyGyroJerkMean,gravityMean)</th>\n",
       "      <th>angle(tBodyGyroMean,gravityMean)</th>\n",
       "      <th>energy-mean()</th>\n",
       "      <th>...</th>\n",
       "      <th>tGravityAccMag-energy()</th>\n",
       "      <th>tGravityAccMag-entropy()</th>\n",
       "      <th>tGravityAccMag-iqr()</th>\n",
       "      <th>tGravityAccMag-mad()</th>\n",
       "      <th>tGravityAccMag-max()</th>\n",
       "      <th>tGravityAccMag-mean()</th>\n",
       "      <th>tGravityAccMag-min()</th>\n",
       "      <th>tGravityAccMag-sma()</th>\n",
       "      <th>tGravityAccMag-std()</th>\n",
       "      <th>void()</th>\n",
       "    </tr>\n",
       "  </thead>\n",
       "  <tbody>\n",
       "    <tr>\n",
       "      <th>0</th>\n",
       "      <td>0</td>\n",
       "      <td>STANDING</td>\n",
       "      <td>-1.574191</td>\n",
       "      <td>-0.805700</td>\n",
       "      <td>-2.453831</td>\n",
       "      <td>-1.861714</td>\n",
       "      <td>0.115517</td>\n",
       "      <td>-2.023369</td>\n",
       "      <td>3.125860</td>\n",
       "      <td>-9.474436</td>\n",
       "      <td>...</td>\n",
       "      <td>5.049130</td>\n",
       "      <td>3.272281</td>\n",
       "      <td>5.103018</td>\n",
       "      <td>-0.823302</td>\n",
       "      <td>3.063681</td>\n",
       "      <td>-0.928676</td>\n",
       "      <td>-1.007695</td>\n",
       "      <td>3.094236</td>\n",
       "      <td>1.669987</td>\n",
       "      <td>1.0</td>\n",
       "    </tr>\n",
       "    <tr>\n",
       "      <th>1</th>\n",
       "      <td>1</td>\n",
       "      <td>WALKING_UPSTAIRS</td>\n",
       "      <td>-1.568669</td>\n",
       "      <td>-0.612620</td>\n",
       "      <td>-2.488338</td>\n",
       "      <td>-1.751117</td>\n",
       "      <td>0.218134</td>\n",
       "      <td>0.280294</td>\n",
       "      <td>7.953403</td>\n",
       "      <td>-0.679894</td>\n",
       "      <td>...</td>\n",
       "      <td>4.565443</td>\n",
       "      <td>4.440779</td>\n",
       "      <td>3.288399</td>\n",
       "      <td>-2.689605</td>\n",
       "      <td>1.705341</td>\n",
       "      <td>-0.822617</td>\n",
       "      <td>-0.572410</td>\n",
       "      <td>-2.187890</td>\n",
       "      <td>-0.544652</td>\n",
       "      <td>2.0</td>\n",
       "    </tr>\n",
       "    <tr>\n",
       "      <th>2</th>\n",
       "      <td>2</td>\n",
       "      <td>LAYING</td>\n",
       "      <td>-1.548333</td>\n",
       "      <td>-0.139628</td>\n",
       "      <td>-2.380889</td>\n",
       "      <td>-1.915239</td>\n",
       "      <td>0.067613</td>\n",
       "      <td>-0.887342</td>\n",
       "      <td>6.007361</td>\n",
       "      <td>-11.906904</td>\n",
       "      <td>...</td>\n",
       "      <td>5.059609</td>\n",
       "      <td>2.296603</td>\n",
       "      <td>5.344174</td>\n",
       "      <td>-0.549843</td>\n",
       "      <td>3.272225</td>\n",
       "      <td>-0.940610</td>\n",
       "      <td>-1.031522</td>\n",
       "      <td>-2.071755</td>\n",
       "      <td>2.024442</td>\n",
       "      <td>3.0</td>\n",
       "    </tr>\n",
       "    <tr>\n",
       "      <th>3</th>\n",
       "      <td>3</td>\n",
       "      <td>WALKING</td>\n",
       "      <td>-1.574094</td>\n",
       "      <td>-0.793443</td>\n",
       "      <td>-2.449959</td>\n",
       "      <td>-1.842741</td>\n",
       "      <td>-0.195625</td>\n",
       "      <td>-0.950671</td>\n",
       "      <td>2.104353</td>\n",
       "      <td>-11.906121</td>\n",
       "      <td>...</td>\n",
       "      <td>4.860758</td>\n",
       "      <td>4.177535</td>\n",
       "      <td>3.950012</td>\n",
       "      <td>-0.322642</td>\n",
       "      <td>2.366287</td>\n",
       "      <td>-0.866937</td>\n",
       "      <td>-0.696431</td>\n",
       "      <td>1.863375</td>\n",
       "      <td>0.550414</td>\n",
       "      <td>2.0</td>\n",
       "    </tr>\n",
       "    <tr>\n",
       "      <th>4</th>\n",
       "      <td>4</td>\n",
       "      <td>LAYING</td>\n",
       "      <td>-1.548333</td>\n",
       "      <td>-0.139628</td>\n",
       "      <td>-2.380889</td>\n",
       "      <td>NaN</td>\n",
       "      <td>0.067613</td>\n",
       "      <td>-0.887342</td>\n",
       "      <td>6.007361</td>\n",
       "      <td>-11.970485</td>\n",
       "      <td>...</td>\n",
       "      <td>5.059609</td>\n",
       "      <td>2.296603</td>\n",
       "      <td>5.344174</td>\n",
       "      <td>-0.549843</td>\n",
       "      <td>3.272225</td>\n",
       "      <td>-0.940610</td>\n",
       "      <td>-1.031522</td>\n",
       "      <td>-2.102513</td>\n",
       "      <td>2.024442</td>\n",
       "      <td>3.0</td>\n",
       "    </tr>\n",
       "  </tbody>\n",
       "</table>\n",
       "<p>5 rows × 573 columns</p>\n",
       "</div>"
      ],
      "text/plain": [
       "   Unnamed: 0          Activity  angle(X,gravityMean)  angle(Y,gravityMean)  \\\n",
       "0           0          STANDING             -1.574191             -0.805700   \n",
       "1           1  WALKING_UPSTAIRS             -1.568669             -0.612620   \n",
       "2           2            LAYING             -1.548333             -0.139628   \n",
       "3           3           WALKING             -1.574094             -0.793443   \n",
       "4           4            LAYING             -1.548333             -0.139628   \n",
       "\n",
       "   angle(Z,gravityMean)  angle(tBodyAccJerkMean),gravityMean)  \\\n",
       "0             -2.453831                             -1.861714   \n",
       "1             -2.488338                             -1.751117   \n",
       "2             -2.380889                             -1.915239   \n",
       "3             -2.449959                             -1.842741   \n",
       "4             -2.380889                                   NaN   \n",
       "\n",
       "   angle(tBodyAccMean,gravity)  angle(tBodyGyroJerkMean,gravityMean)  \\\n",
       "0                     0.115517                             -2.023369   \n",
       "1                     0.218134                              0.280294   \n",
       "2                     0.067613                             -0.887342   \n",
       "3                    -0.195625                             -0.950671   \n",
       "4                     0.067613                             -0.887342   \n",
       "\n",
       "   angle(tBodyGyroMean,gravityMean)  energy-mean()  ...  \\\n",
       "0                          3.125860      -9.474436  ...   \n",
       "1                          7.953403      -0.679894  ...   \n",
       "2                          6.007361     -11.906904  ...   \n",
       "3                          2.104353     -11.906121  ...   \n",
       "4                          6.007361     -11.970485  ...   \n",
       "\n",
       "   tGravityAccMag-energy()  tGravityAccMag-entropy()  tGravityAccMag-iqr()  \\\n",
       "0                 5.049130                  3.272281              5.103018   \n",
       "1                 4.565443                  4.440779              3.288399   \n",
       "2                 5.059609                  2.296603              5.344174   \n",
       "3                 4.860758                  4.177535              3.950012   \n",
       "4                 5.059609                  2.296603              5.344174   \n",
       "\n",
       "   tGravityAccMag-mad()  tGravityAccMag-max()  tGravityAccMag-mean()  \\\n",
       "0             -0.823302              3.063681              -0.928676   \n",
       "1             -2.689605              1.705341              -0.822617   \n",
       "2             -0.549843              3.272225              -0.940610   \n",
       "3             -0.322642              2.366287              -0.866937   \n",
       "4             -0.549843              3.272225              -0.940610   \n",
       "\n",
       "   tGravityAccMag-min()  tGravityAccMag-sma()  tGravityAccMag-std()  void()  \n",
       "0             -1.007695              3.094236              1.669987     1.0  \n",
       "1             -0.572410             -2.187890             -0.544652     2.0  \n",
       "2             -1.031522             -2.071755              2.024442     3.0  \n",
       "3             -0.696431              1.863375              0.550414     2.0  \n",
       "4             -1.031522             -2.102513              2.024442     3.0  \n",
       "\n",
       "[5 rows x 573 columns]"
      ]
     },
     "execution_count": 3,
     "metadata": {},
     "output_type": "execute_result"
    }
   ],
   "source": [
    "train_data.head()"
   ]
  },
  {
   "cell_type": "markdown",
   "metadata": {},
   "source": [
    "First column (displayed above as `Unnamed: 0`) is an identifier of an instance. Therefore we drop this variable as well as `subject`, which contains identifier of an observed person. Using these variables may lead to model overfitting."
   ]
  },
  {
   "cell_type": "code",
   "execution_count": 4,
   "metadata": {},
   "outputs": [],
   "source": [
    "train_data.drop([\"Unnamed: 0\", \"subject\"], axis='columns', inplace=True)"
   ]
  },
  {
   "cell_type": "markdown",
   "metadata": {
    "cell_id": "00008-efa41560-face-4bbb-a544-38a054ec5e62",
    "deepnote_cell_type": "markdown",
    "tags": []
   },
   "source": [
    "All the data was gathered from accelerometer (image on the left-hand side) and gyroscope (image on the right-hand side). Variables describe XYZ axes references and their changes in 2.56 sec windows. Beside raw data recorded by a mobile phone, there are also variables obtained by applying Fast Fourier Transformation (FFT).\n",
    "\n",
    "<table><tr><td><img title='accelerometer 'src='../images/accelerometer.png'></td><td><img title='gyroscope 'src='../images/gyroscope.png'></td></tr></table>\n",
    "\n",
    "Phone was fixed to the belt in horizontal orientation. Thus the X-axis is the vertical one.\n",
    "\n",
    "<div style=\"text-align: center;\">\n",
    "<img title='pose' src='../images/pose.png'>\n",
    "</div>"
   ]
  },
  {
   "cell_type": "markdown",
   "metadata": {},
   "source": [
    "## Data cleaning and dimensionality reduction"
   ]
  },
  {
   "cell_type": "markdown",
   "metadata": {
    "cell_id": "00009-9e4c5cc9-4064-4404-a61b-96438fc389b3",
    "deepnote_cell_type": "markdown",
    "tags": []
   },
   "source": [
    "To familiarize and deepen the data we use SHAP. We discover that variable `angle(X,gravityMean)` is incredibly important. We visualize it values for each class."
   ]
  },
  {
   "cell_type": "code",
   "execution_count": 5,
   "metadata": {
    "cell_id": "00008-909169a3-f47d-43e1-b0d4-7da467ffcb58",
    "deepnote_cell_type": "code",
    "deepnote_to_be_reexecuted": false,
    "execution_millis": 900,
    "execution_start": 1618041904763,
    "source_hash": "7f2d2328",
    "tags": []
   },
   "outputs": [
    {
     "data": {
      "text/plain": [
       "<matplotlib.legend.Legend at 0x7f22d384edd0>"
      ]
     },
     "execution_count": 5,
     "metadata": {},
     "output_type": "execute_result"
    },
    {
     "data": {
      "image/png": "[encoded data removed]",
      "text/plain": [
       "<Figure size 432x288 with 1 Axes>"
      ]
     },
     "metadata": {
      "needs_background": "light"
     },
     "output_type": "display_data"
    }
   ],
   "source": [
    "laying = train_data.loc[train_data.Activity == \"LAYING\", \"angle(X,gravityMean)\"]\n",
    "sitting = train_data.loc[train_data.Activity == \"SITTING\", \"angle(X,gravityMean)\"]\n",
    "standing = train_data.loc[train_data.Activity == \"STANDING\", \"angle(X,gravityMean)\"]\n",
    "walking = train_data.loc[train_data.Activity == \"WALKING\", \"angle(X,gravityMean)\"]\n",
    "walking_downstairs = train_data.loc[train_data.Activity == \"WALKING_DOWNSTAIRS\", \"angle(X,gravityMean)\"]\n",
    "walking_upstairs = train_data.loc[train_data.Activity == \"WALKING_UPSTAIRS\", \"angle(X,gravityMean)\"]\n",
    "\n",
    "kwargs = dict(alpha=0.5, bins=20)\n",
    "\n",
    "plt.hist(laying, **kwargs, color=\"b\", label=\"Laying\")\n",
    "plt.hist(sitting, **kwargs, color=\"y\", label=\"Sitting\")\n",
    "plt.hist(standing, **kwargs, color=\"g\", label=\"Standing\")\n",
    "plt.hist(walking, **kwargs, color=\"r\", label=\"Walking\")\n",
    "plt.hist(walking_downstairs, **kwargs, color=\"c\", label=\"Walking downstairs\")\n",
    "plt.hist(walking_upstairs, **kwargs, color=\"m\", label=\"Walking upstairs\")\n",
    "\n",
    "plt.legend()"
   ]
  },
  {
   "cell_type": "markdown",
   "metadata": {
    "cell_id": "00009-3adebe78-99fc-44f7-9a53-1bc1b9e780a7",
    "deepnote_cell_type": "markdown",
    "tags": []
   },
   "source": [
    "The figure above shows that \"LAYING\" activity may be determined using only `angle(X,gravityMean)`. If value of this variable is greater than -1.553, then we label the entry as \"LAYING\". This allows as to train our classifier only for 5 remaining classes. Because of that our model is less complex and thus it requires less power to run. This is very desired as the classifier may run in real time on mobile device."
   ]
  },
  {
   "cell_type": "code",
   "execution_count": 6,
   "metadata": {
    "cell_id": "00010-eec68f6d-b9a1-469e-b857-ffb35e97c94c",
    "deepnote_cell_type": "code",
    "deepnote_to_be_reexecuted": false,
    "execution_millis": 38,
    "execution_start": 1618042003245,
    "source_hash": "87d70b2a",
    "tags": []
   },
   "outputs": [],
   "source": [
    "train_data.drop(train_data[train_data['angle(X,gravityMean)'] > -1.553].index, axis=0, inplace=True)"
   ]
  },
  {
   "cell_type": "code",
   "execution_count": 7,
   "metadata": {},
   "outputs": [
    {
     "data": {
      "text/html": [
       "<div>\n",
       "<style scoped>\n",
       "    .dataframe tbody tr th:only-of-type {\n",
       "        vertical-align: middle;\n",
       "    }\n",
       "\n",
       "    .dataframe tbody tr th {\n",
       "        vertical-align: top;\n",
       "    }\n",
       "\n",
       "    .dataframe thead th {\n",
       "        text-align: right;\n",
       "    }\n",
       "</style>\n",
       "<table border=\"1\" class=\"dataframe\">\n",
       "  <thead>\n",
       "    <tr style=\"text-align: right;\">\n",
       "      <th></th>\n",
       "      <th>Activity</th>\n",
       "      <th>angle(X,gravityMean)</th>\n",
       "      <th>angle(Y,gravityMean)</th>\n",
       "      <th>angle(Z,gravityMean)</th>\n",
       "      <th>angle(tBodyAccJerkMean),gravityMean)</th>\n",
       "      <th>angle(tBodyAccMean,gravity)</th>\n",
       "      <th>angle(tBodyGyroJerkMean,gravityMean)</th>\n",
       "      <th>angle(tBodyGyroMean,gravityMean)</th>\n",
       "      <th>energy-mean()</th>\n",
       "      <th>fBodyAcc-bandsEnergy()-1,16</th>\n",
       "      <th>...</th>\n",
       "      <th>tGravityAccMag-energy()</th>\n",
       "      <th>tGravityAccMag-entropy()</th>\n",
       "      <th>tGravityAccMag-iqr()</th>\n",
       "      <th>tGravityAccMag-mad()</th>\n",
       "      <th>tGravityAccMag-max()</th>\n",
       "      <th>tGravityAccMag-mean()</th>\n",
       "      <th>tGravityAccMag-min()</th>\n",
       "      <th>tGravityAccMag-sma()</th>\n",
       "      <th>tGravityAccMag-std()</th>\n",
       "      <th>void()</th>\n",
       "    </tr>\n",
       "  </thead>\n",
       "  <tbody>\n",
       "    <tr>\n",
       "      <th>0</th>\n",
       "      <td>STANDING</td>\n",
       "      <td>-1.574191</td>\n",
       "      <td>-0.805700</td>\n",
       "      <td>-2.453831</td>\n",
       "      <td>-1.861714</td>\n",
       "      <td>0.115517</td>\n",
       "      <td>-2.023369</td>\n",
       "      <td>3.125860</td>\n",
       "      <td>-9.474436</td>\n",
       "      <td>3.622600</td>\n",
       "      <td>...</td>\n",
       "      <td>5.049130</td>\n",
       "      <td>3.272281</td>\n",
       "      <td>5.103018</td>\n",
       "      <td>-0.823302</td>\n",
       "      <td>3.063681</td>\n",
       "      <td>-0.928676</td>\n",
       "      <td>-1.007695</td>\n",
       "      <td>3.094236</td>\n",
       "      <td>1.669987</td>\n",
       "      <td>1.0</td>\n",
       "    </tr>\n",
       "    <tr>\n",
       "      <th>1</th>\n",
       "      <td>WALKING_UPSTAIRS</td>\n",
       "      <td>-1.568669</td>\n",
       "      <td>-0.612620</td>\n",
       "      <td>-2.488338</td>\n",
       "      <td>-1.751117</td>\n",
       "      <td>0.218134</td>\n",
       "      <td>0.280294</td>\n",
       "      <td>7.953403</td>\n",
       "      <td>-0.679894</td>\n",
       "      <td>2.512880</td>\n",
       "      <td>...</td>\n",
       "      <td>4.565443</td>\n",
       "      <td>4.440779</td>\n",
       "      <td>3.288399</td>\n",
       "      <td>-2.689605</td>\n",
       "      <td>1.705341</td>\n",
       "      <td>-0.822617</td>\n",
       "      <td>-0.572410</td>\n",
       "      <td>-2.187890</td>\n",
       "      <td>-0.544652</td>\n",
       "      <td>2.0</td>\n",
       "    </tr>\n",
       "    <tr>\n",
       "      <th>3</th>\n",
       "      <td>WALKING</td>\n",
       "      <td>-1.574094</td>\n",
       "      <td>-0.793443</td>\n",
       "      <td>-2.449959</td>\n",
       "      <td>-1.842741</td>\n",
       "      <td>-0.195625</td>\n",
       "      <td>-0.950671</td>\n",
       "      <td>2.104353</td>\n",
       "      <td>-11.906121</td>\n",
       "      <td>3.355701</td>\n",
       "      <td>...</td>\n",
       "      <td>4.860758</td>\n",
       "      <td>4.177535</td>\n",
       "      <td>3.950012</td>\n",
       "      <td>-0.322642</td>\n",
       "      <td>2.366287</td>\n",
       "      <td>-0.866937</td>\n",
       "      <td>-0.696431</td>\n",
       "      <td>1.863375</td>\n",
       "      <td>0.550414</td>\n",
       "      <td>2.0</td>\n",
       "    </tr>\n",
       "    <tr>\n",
       "      <th>5</th>\n",
       "      <td>SITTING</td>\n",
       "      <td>-1.575809</td>\n",
       "      <td>-0.640703</td>\n",
       "      <td>-2.460251</td>\n",
       "      <td>-1.849850</td>\n",
       "      <td>0.174633</td>\n",
       "      <td>-0.151900</td>\n",
       "      <td>3.562269</td>\n",
       "      <td>-5.978664</td>\n",
       "      <td>3.611319</td>\n",
       "      <td>...</td>\n",
       "      <td>5.012806</td>\n",
       "      <td>3.784507</td>\n",
       "      <td>4.524738</td>\n",
       "      <td>-6.202087</td>\n",
       "      <td>2.763802</td>\n",
       "      <td>-0.913074</td>\n",
       "      <td>-0.991923</td>\n",
       "      <td>2.783184</td>\n",
       "      <td>0.946387</td>\n",
       "      <td>2.0</td>\n",
       "    </tr>\n",
       "    <tr>\n",
       "      <th>7</th>\n",
       "      <td>STANDING</td>\n",
       "      <td>-1.567323</td>\n",
       "      <td>-0.857850</td>\n",
       "      <td>-2.490082</td>\n",
       "      <td>-1.832982</td>\n",
       "      <td>0.112276</td>\n",
       "      <td>-0.738710</td>\n",
       "      <td>7.961757</td>\n",
       "      <td>-9.302665</td>\n",
       "      <td>3.623865</td>\n",
       "      <td>...</td>\n",
       "      <td>5.060179</td>\n",
       "      <td>2.089889</td>\n",
       "      <td>5.362029</td>\n",
       "      <td>-0.555530</td>\n",
       "      <td>3.272104</td>\n",
       "      <td>-0.942724</td>\n",
       "      <td>-1.030745</td>\n",
       "      <td>-2.238799</td>\n",
       "      <td>2.010097</td>\n",
       "      <td>1.0</td>\n",
       "    </tr>\n",
       "  </tbody>\n",
       "</table>\n",
       "<p>5 rows × 571 columns</p>\n",
       "</div>"
      ],
      "text/plain": [
       "           Activity  angle(X,gravityMean)  angle(Y,gravityMean)  \\\n",
       "0          STANDING             -1.574191             -0.805700   \n",
       "1  WALKING_UPSTAIRS             -1.568669             -0.612620   \n",
       "3           WALKING             -1.574094             -0.793443   \n",
       "5           SITTING             -1.575809             -0.640703   \n",
       "7          STANDING             -1.567323             -0.857850   \n",
       "\n",
       "   angle(Z,gravityMean)  angle(tBodyAccJerkMean),gravityMean)  \\\n",
       "0             -2.453831                             -1.861714   \n",
       "1             -2.488338                             -1.751117   \n",
       "3             -2.449959                             -1.842741   \n",
       "5             -2.460251                             -1.849850   \n",
       "7             -2.490082                             -1.832982   \n",
       "\n",
       "   angle(tBodyAccMean,gravity)  angle(tBodyGyroJerkMean,gravityMean)  \\\n",
       "0                     0.115517                             -2.023369   \n",
       "1                     0.218134                              0.280294   \n",
       "3                    -0.195625                             -0.950671   \n",
       "5                     0.174633                             -0.151900   \n",
       "7                     0.112276                             -0.738710   \n",
       "\n",
       "   angle(tBodyGyroMean,gravityMean)  energy-mean()  \\\n",
       "0                          3.125860      -9.474436   \n",
       "1                          7.953403      -0.679894   \n",
       "3                          2.104353     -11.906121   \n",
       "5                          3.562269      -5.978664   \n",
       "7                          7.961757      -9.302665   \n",
       "\n",
       "   fBodyAcc-bandsEnergy()-1,16  ...  tGravityAccMag-energy()  \\\n",
       "0                     3.622600  ...                 5.049130   \n",
       "1                     2.512880  ...                 4.565443   \n",
       "3                     3.355701  ...                 4.860758   \n",
       "5                     3.611319  ...                 5.012806   \n",
       "7                     3.623865  ...                 5.060179   \n",
       "\n",
       "   tGravityAccMag-entropy()  tGravityAccMag-iqr()  tGravityAccMag-mad()  \\\n",
       "0                  3.272281              5.103018             -0.823302   \n",
       "1                  4.440779              3.288399             -2.689605   \n",
       "3                  4.177535              3.950012             -0.322642   \n",
       "5                  3.784507              4.524738             -6.202087   \n",
       "7                  2.089889              5.362029             -0.555530   \n",
       "\n",
       "   tGravityAccMag-max()  tGravityAccMag-mean()  tGravityAccMag-min()  \\\n",
       "0              3.063681              -0.928676             -1.007695   \n",
       "1              1.705341              -0.822617             -0.572410   \n",
       "3              2.366287              -0.866937             -0.696431   \n",
       "5              2.763802              -0.913074             -0.991923   \n",
       "7              3.272104              -0.942724             -1.030745   \n",
       "\n",
       "   tGravityAccMag-sma()  tGravityAccMag-std()  void()  \n",
       "0              3.094236              1.669987     1.0  \n",
       "1             -2.187890             -0.544652     2.0  \n",
       "3              1.863375              0.550414     2.0  \n",
       "5              2.783184              0.946387     2.0  \n",
       "7             -2.238799              2.010097     1.0  \n",
       "\n",
       "[5 rows x 571 columns]"
      ]
     },
     "execution_count": 7,
     "metadata": {},
     "output_type": "execute_result"
    }
   ],
   "source": [
    "train_data.head()"
   ]
  },
  {
   "cell_type": "markdown",
   "metadata": {
    "cell_id": "00011-c6db74c8-c377-44c8-847c-7698521f052e",
    "deepnote_cell_type": "markdown",
    "tags": []
   },
   "source": [
    "We drop variables with low variance since they don't meaningfullly contribute to the model's predictive capability."
   ]
  },
  {
   "cell_type": "code",
   "execution_count": 8,
   "metadata": {
    "cell_id": "00009-30e96dea-0e09-4184-8427-1ee6a0b8b3a5",
    "deepnote_cell_type": "code",
    "deepnote_to_be_reexecuted": false,
    "execution_millis": 357,
    "execution_start": 1618042352329,
    "source_hash": "51f5525c",
    "tags": []
   },
   "outputs": [],
   "source": [
    "temp_data = train_data.copy(deep=False)\n",
    "temp_data.Activity = train_data.Activity.astype(\"category\").cat.codes\n",
    "\n",
    "sel = VarianceThreshold(threshold=.15)\n",
    "vt = sel.fit_transform(temp_data)\n",
    "cols = [train_data.columns[ix] for ix in sel.get_support(indices=True)]\n",
    "train_data = train_data[train_data.columns[sel.get_support(indices=True)]]"
   ]
  },
  {
   "cell_type": "markdown",
   "metadata": {},
   "source": [
    "In the data there are many missing values. To improve quality of the train dataset for our classifier we impute missing values. As the dataset consists of thousands of instances we assume that population size is sufficient to apply central limit theorem. For each activity ($c$), for each variable ($v$) we compute mean $\\mu_{c,v}$ and standard deviation $\\sigma_{c,v}$. Then we estimate each missing value ($m_{c,v}$) with value from the distribution corresponding with each activity and variable: $\\hat{m}_{c,v} \\thicksim\\ \\mathcal{N}(\\mu_{c,v},\\,\\sigma_{c,v}^{2})$. This approach extend set of meaningfull entries without decreasing variance of variables. It prevents model overfitting."
   ]
  },
  {
   "cell_type": "code",
   "execution_count": 9,
   "metadata": {
    "cell_id": "00012-64b319e4-5f98-40d1-aa8f-71c6a8e7d493",
    "deepnote_cell_type": "code",
    "deepnote_to_be_reexecuted": false,
    "execution_millis": 23,
    "execution_start": 1618042353856,
    "source_hash": "6d1b38b6",
    "tags": []
   },
   "outputs": [
    {
     "name": "stderr",
     "output_type": "stream",
     "text": [
      "\n",
      "A value is trying to be set on a copy of a slice from a DataFrame.\n",
      "Try using .loc[row_indexer,col_indexer] = value instead\n",
      "\n",
      "See the caveats in the documentation: https://pandas.pydata.org/pandas-docs/stable/user_guide/indexing.html#returning-a-view-versus-a-copy\n"
     ]
    }
   ],
   "source": [
    "class imputer:\n",
    "    def __init__(self, df, cols):\n",
    "        self.__generator = np.random.default_rng()\n",
    "        self.__values = dict()\n",
    "        for col in cols:\n",
    "            self.__values[col] = [df[col].mean(\n",
    "                skipna=True), df[col].std(skipna=True)]\n",
    "\n",
    "    def fill(self, column_name):\n",
    "        mean = self.__values[column_name][0]\n",
    "        sd = self.__values[column_name][1]\n",
    "        return self.__generator.normal(loc=mean, scale=sd)\n",
    "\n",
    "final_data = pd.DataFrame()\n",
    "for act in ['SITTING', 'STANDING', 'WALKING', 'WALKING_DOWNSTAIRS', 'WALKING_UPSTAIRS']:\n",
    "\n",
    "    act_data = train_data[train_data[\"Activity\"] == act]\n",
    "    imp = imputer(act_data, cols[1:])\n",
    "    for col in cols[1:]:\n",
    "        act_data[col] = act_data[col].apply(\n",
    "            lambda x: imp.fill(col) if x != x else x)\n",
    "\n",
    "    if final_data.shape == (0, 0):\n",
    "        final_data = pd.DataFrame(act_data)\n",
    "    else:\n",
    "        final_data = pd.concat([final_data, act_data])\n",
    "train_data = final_data.copy(deep=False)\n",
    "y = train_data[\"Activity\"]\n",
    "X = train_data.iloc[:,2:]"
   ]
  },
  {
   "cell_type": "markdown",
   "metadata": {},
   "source": [
    "Later on we visualize accuracy dependence on the number of variables. To choose most important attributes we create ranking of variables with highest mutual infromation with label. We decided to use `XGBClassifier` as a baseline."
   ]
  },
  {
   "cell_type": "code",
   "execution_count": 10,
   "metadata": {
    "cell_id": "00014-7264b9cd-44aa-434c-9d19-6d0dc63d4013",
    "deepnote_cell_type": "code",
    "tags": []
   },
   "outputs": [],
   "source": [
    "X_train, X_test, y_train, y_test = train_test_split(X, y, test_size=0.25, random_state=42)"
   ]
  },
  {
   "cell_type": "code",
   "execution_count": 11,
   "metadata": {
    "cell_id": "00013-8f6ae7dc-7538-4ed2-be34-a1b1245f29a2",
    "deepnote_cell_type": "code",
    "deepnote_to_be_reexecuted": false,
    "execution_millis": 15578,
    "execution_start": 1618042355027,
    "source_hash": "271895f6",
    "tags": []
   },
   "outputs": [],
   "source": [
    "mi = []\n",
    "for feature, importance in zip(X.columns.values.tolist(), mutual_info_classif(X, y)):\n",
    "    mi.append([feature, importance])\n",
    "mi.sort(key=lambda x: x[1], reverse=True)"
   ]
  },
  {
   "cell_type": "code",
   "execution_count": 12,
   "metadata": {
    "cell_id": "00014-c17c2822-9949-4fe4-93d1-b3449552c952",
    "deepnote_cell_type": "code",
    "deepnote_to_be_reexecuted": false,
    "execution_millis": 1064596,
    "execution_start": 1618042373528,
    "source_hash": "9d9cf476",
    "tags": []
   },
   "outputs": [
    {
     "name": "stderr",
     "output_type": "stream",
     "text": [
      "The use of label encoder in XGBClassifier is deprecated and will be removed in a future release. To remove this warning, do the following: 1) Pass option use_label_encoder=False when constructing XGBClassifier object; and 2) Encode your labels (y) as integers starting with 0, i.e. 0, 1, 2, ..., [num_class - 1].\n"
     ]
    }
   ],
   "source": [
    "range_ = list(range(2, 32, 5)) + list(range(40, 220, 10))\n",
    "results = []\n",
    "for features_n in range_:\n",
    "    mi_new = mi[:features_n]\n",
    "    mi_new = [x[0] for x in mi_new]\n",
    "    X_new = X.loc[:, mi_new]\n",
    "    X_train, X_test, y_train, y_test = train_test_split(X_new, y, test_size=0.25, random_state=2)\n",
    "    clf = XGBClassifier(tree_method=\"approx\", verbosity=0).fit(X_train, y_train)\n",
    "    results.append([features_n, clf.score(X_test, y_test)])"
   ]
  },
  {
   "cell_type": "code",
   "execution_count": 14,
   "metadata": {
    "cell_id": "00015-92c95c47-0e53-4dd3-8022-0d30bdbf9bbe",
    "deepnote_cell_type": "code",
    "tags": []
   },
   "outputs": [
    {
     "data": {
      "image/png": "[encoded data removed]",
      "text/plain": [
       "<Figure size 640x480 with 1 Axes>"
      ]
     },
     "metadata": {},
     "output_type": "display_data"
    },
    {
     "data": {
      "text/plain": [
       "<ggplot: (8736724790493)>"
      ]
     },
     "execution_count": 14,
     "metadata": {},
     "output_type": "execute_result"
    }
   ],
   "source": [
    "features_to_accuracy = results\n",
    "\n",
    "df = pd.DataFrame(data=features_to_accuracy, columns = ['Number of attributes', 'Accuracy']) \n",
    "\n",
    "(ggplot(df, aes('Number of attributes', 'Accuracy'))\n",
    " + ggtitle(\"Impact of number of attributes on classifier accuracy\")\n",
    " + geom_line(colour=\"#C70039\")\n",
    " + theme_classic())"
   ]
  },
  {
   "cell_type": "markdown",
   "metadata": {
    "cell_id": "00018-fba8de91-1dc3-4b51-bab6-e68ede2d1080",
    "deepnote_cell_type": "markdown",
    "tags": []
   },
   "source": [
    "The figure above shows that the gain of accuracy above 50 features increases in a slow manner. It may be caused by a strong correlation between some features. For instance mean may be very informative as well as median of the same time window but knowing both of them is not more informative that knowing only one.  <br>\n",
    "To proceed the reduction of dimensions we compute perumtation importance for our baseline."
   ]
  },
  {
   "cell_type": "code",
   "execution_count": 17,
   "metadata": {
    "cell_id": "00012-d7a7bee5-6cfe-4e35-9676-bce46c39a412",
    "deepnote_cell_type": "code",
    "deepnote_to_be_reexecuted": false,
    "execution_millis": 2039,
    "execution_start": 1618043919757,
    "source_hash": "57935941",
    "tags": []
   },
   "outputs": [],
   "source": [
    "perm = PermutationImportance(clf).fit(X_test, y_test)\n",
    "imp = list(zip(X_test.columns.tolist(), perm.feature_importances_))\n",
    "features = []\n",
    "for feature in imp:\n",
    "    if feature[1] > 0:\n",
    "        features.append(feature[0])"
   ]
  },
  {
   "cell_type": "markdown",
   "metadata": {},
   "source": [
    "We observe that number of attributes has been reduced to only 81 variables! It's very desired as we want to reduce classifier complexity and therefore energy consumption, beacause we will to make the classifier optimized to run in real time on mobile devices. The list of chosen variables looks as follows:"
   ]
  },
  {
   "cell_type": "code",
   "execution_count": null,
   "metadata": {},
   "outputs": [],
   "source": [
    "features = ['fBodyAccJerk-mad()-Z',\n",
    "            'fBodyAccMag-meanFreq()',\n",
    "            'tBodyAcc-arCoeff()-X,1',\n",
    "            'tGravityAcc-entropy()-Y',\n",
    "            'fBodyGyro-bandsEnergy()-1,16.2',\n",
    "            'tBodyGyroJerk-iqr()-X',\n",
    "            'fBodyAcc-kurtosis()-X',\n",
    "            'fBodyAccJerk-mean()-Z',\n",
    "            'fBodyAccMag-mean()',\n",
    "            'fBodyBodyGyroJerkMag-skewness()',\n",
    "            'tBodyAcc-min()-Z',\n",
    "            'tBodyGyro-sma()',\n",
    "            'tBodyGyroJerk-arCoeff()-Z,2',\n",
    "            'tBodyGyroJerkMag-mad()',\n",
    "            'tGravityAccMag-arCoeff()1',\n",
    "            'fBodyAccMag-energy()',\n",
    "            'fBodyAccJerk-kurtosis()-Z',\n",
    "            'fBodyAccJerk-skewness()-X',\n",
    "            'fBodyGyro-mean()-Z',\n",
    "            'tBodyAcc-max()-Z',\n",
    "            'tBodyAccJerk-arCoeff()-Z,3',\n",
    "            'tBodyGyro-arCoeff()-X,4',\n",
    "            'tBodyGyro-max()-Z',\n",
    "            'tGravityAcc-mean()-X',\n",
    "            'tGravityAcc-mean()-Z',\n",
    "            'fBodyAccJerk-bandsEnergy()-1,16.1',\n",
    "            'fBodyAccJerk-sma()',\n",
    "            'fBodyAccMag-entropy()',\n",
    "            'fBodyBodyGyroJerkMag-sma()',\n",
    "            'fBodyGyro-entropy()-Y',\n",
    "            'tBodyGyro-min()-Y',\n",
    "            'fBodyBodyGyroJerkMag-max()',\n",
    "            'angle(tBodyGyroMean,gravityMean)',\n",
    "            'tBodyAccJerk-iqr()-Y',\n",
    "            'tBodyGyroJerk-correlation()-X,Z',\n",
    "            'tGravityAcc-arCoeff()-Z,4',\n",
    "            'tBodyGyroJerk-std()-X',\n",
    "            'fBodyBodyAccJerkMag-max()',\n",
    "            'tBodyAcc-sma()',\n",
    "            'tBodyAccMag-mean()',\n",
    "            'tBodyGyro-correlation()-X,Y',\n",
    "            'fBodyAcc-std()-Y',\n",
    "            'fBodyAccJerk-meanFreq()-X',\n",
    "            'tBodyGyro-iqr()-Y',\n",
    "            'tGravityAccMag-arCoeff()4',\n",
    "            'fBodyBodyAccJerkMag-skewness()',\n",
    "            'tGravityAcc-min()-Z',\n",
    "            'fBodyGyro-bandsEnergy()-1,8.2',\n",
    "            'fBodyAcc-std()-X',\n",
    "            'tBodyAccMag-energy()',\n",
    "            'fBodyAcc-bandsEnergy()-9,16',\n",
    "            'fBodyGyro-kurtosis()-Z',\n",
    "            'fBodyAccJerk-std()-Z',\n",
    "            'tBodyAccJerk-min()-Y',\n",
    "            'tBodyAccMag-mad()',\n",
    "            'tBodyGyro-mad()-X',\n",
    "            'fBodyGyro-max()-X',\n",
    "            'tGravityAcc-arCoeff()-Y,4',\n",
    "            'tBodyAcc-entropy()-Y',\n",
    "            'fBodyAcc-bandsEnergy()-1,16',\n",
    "            'fBodyAccJerk-meanFreq()-Z',\n",
    "            'tBodyAcc-std()-Z',\n",
    "            'tGravityAcc-max()-X',\n",
    "            'tGravityAcc-max()-Z',\n",
    "            'tBodyGyro-iqr()-Z',\n",
    "            'fBodyAcc-max()-Y',\n",
    "            'fBodyAcc-sma()',\n",
    "            'fBodyAccJerk-bandsEnergy()-1,8',\n",
    "            'fBodyGyro-skewness()-Z',\n",
    "            'fBodyAccMag-mad()',\n",
    "            'fBodyGyro-mad()-X',\n",
    "            'tGravityAcc-energy()-Y',\n",
    "            'tGravityAcc-arCoeff()-Z,3',\n",
    "            'tBodyAcc-max()-X',\n",
    "            'tBodyAccJerk-max()-Z',\n",
    "            'tBodyAccJerk-entropy()-X',\n",
    "            'fBodyGyro-maxInds-Z',\n",
    "            'fBodyAccMag-std()',\n",
    "            'tBodyGyro-iqr()-X',\n",
    "            'tBodyGyro-max()-X',\n",
    "            'tGravityAcc-mean()-Y']"
   ]
  },
  {
   "cell_type": "markdown",
   "metadata": {
    "cell_id": "00018-0a751241-53ca-49b9-a439-bec016bb767a",
    "deepnote_cell_type": "text-cell-h1",
    "tags": []
   },
   "source": [
    "# Building classifier\n",
    "After data cleaning and dimensionality reduction we choose model. We choose the one which achieves, without hyper parametrization, the best mean accuracy in k-fold cross validation. <br>\n",
    "For each learning strategy we divide dataset into 10 equal parts. Then the model is learned 10 times, each time using 9 different parts of the data. Remaining part is used to evaluate the classifier accuracy: $acc = \\frac{C_{+}}{C_{+} + C_{-}}$, where $C_{+}$ is number of correct classifications and $C_{-}$ is number of incorrect classifications. At the end we compute mean accuracy for all 10 iterations, for each model $m$: $\\bar{acc}_{m} = \\frac{1}{10} \\sum_{i=1}^{10}acc_{i}$. All models are trained and evaluated on the same seed.\n",
    "<br><br>\n",
    "**Mean accuracy for k-fold cross validation (with k=10):**\n",
    "<br>\n",
    "XGBoost:\n",
    "- `XGBClassifier`:\n",
    "    - `exact` - 0.9871061134514049\n",
    "    - `approx` - 0.9881153337057672\n",
    "    - `gpu_hist` - 0.9868822756715133\n",
    "    - `hist` - 0.987667029034742\n",
    "- `XGBRFClassifier`:\n",
    "    - `exact` - 0.9557119526103083\n",
    "    - `approx` - 0.9561600056368367\n",
    "    - `gpu_hist` - 0.9328399842973834\n",
    "    - `hist` - 0.9551505337379776\n",
    "\n",
    "CatBoost\n",
    " - `CatBoostClassifier` - 0.9880031002602007\n",
    "\n",
    "scikit-learn:\n",
    "- `RandomForestClassifier` - 0.9790336096389908\n",
    "- `LogisticRegression` - 0.9473031259279392\n",
    "- `ExtraTreeClassifier` - 0.9080621863880458\n",
    "- `DecisionTreeClassifier` - 0.9414734036931348\n",
    "- `BernoulliNB` - 0.7154376349443614\n",
    "- `GradientBoostingClassifier` - 0.9807156014555117\n",
    "\n",
    "We choose `XGBClassifier`. This model has gained the highest accuracy. The model stands out from other with high accuracy with the term of speed and the fact that XGBoosted classifiers are punished not only for wrong results but also for complexity. Another important characteristic of this classifier is it's explainability - it's possible to print it out in a form understandable to humans (as opposed to random forests or deep neural networks). It's worth noting that this model builds tree with max depth 5. It means that it is possible to predict the class asking only 5 questions. This makes our model not only understandable but also usable by humans.\n",
    "<br><br>\n",
    "We parametrize our model using the following values:\n",
    "```python\n",
    "tree_method='approx'\n",
    "```\n"
   ]
  },
  {
   "cell_type": "code",
   "execution_count": 15,
   "metadata": {
    "cell_id": "00020-afcb1ea7-38cc-447c-b608-c6f0f45115f8",
    "deepnote_cell_type": "code",
    "deepnote_to_be_reexecuted": false,
    "execution_millis": 50384,
    "execution_start": 1618048803002,
    "source_hash": "7fae6b17",
    "tags": []
   },
   "outputs": [
    {
     "name": "stderr",
     "output_type": "stream",
     "text": [
      "The use of label encoder in XGBClassifier is deprecated and will be removed in a future release. To remove this warning, do the following: 1) Pass option use_label_encoder=False when constructing XGBClassifier object; and 2) Encode your labels (y) as integers starting with 0, i.e. 0, 1, 2, ..., [num_class - 1].\n"
     ]
    }
   ],
   "source": [
    "clf = xgboost.XGBClassifier(tree_method='approx', verbosity=0).fit(X_train, y_train)"
   ]
  },
  {
   "cell_type": "markdown",
   "metadata": {
    "cell_id": "00029-91667cda-5530-46f7-ad98-9bfe7d4e8a17",
    "deepnote_cell_type": "text-cell-h2",
    "tags": []
   },
   "source": [
    "# Results"
   ]
  },
  {
   "cell_type": "code",
   "execution_count": 16,
   "metadata": {
    "cell_id": "00021-ce35d347-a608-4314-b091-41a71465cce5",
    "deepnote_cell_type": "code",
    "deepnote_to_be_reexecuted": false,
    "execution_millis": 136,
    "execution_start": 1618043785216,
    "source_hash": "6e4b2061",
    "tags": []
   },
   "outputs": [
    {
     "data": {
      "text/html": [
       "<div>\n",
       "<style scoped>\n",
       "    .dataframe tbody tr th:only-of-type {\n",
       "        vertical-align: middle;\n",
       "    }\n",
       "\n",
       "    .dataframe tbody tr th {\n",
       "        vertical-align: top;\n",
       "    }\n",
       "\n",
       "    .dataframe thead th {\n",
       "        text-align: right;\n",
       "    }\n",
       "</style>\n",
       "<table border=\"1\" class=\"dataframe\">\n",
       "  <thead>\n",
       "    <tr style=\"text-align: right;\">\n",
       "      <th></th>\n",
       "      <th>0</th>\n",
       "      <th>1</th>\n",
       "      <th>2</th>\n",
       "      <th>3</th>\n",
       "      <th>4</th>\n",
       "    </tr>\n",
       "  </thead>\n",
       "  <tbody>\n",
       "    <tr>\n",
       "      <th>0</th>\n",
       "      <td>500</td>\n",
       "      <td>17</td>\n",
       "      <td>0</td>\n",
       "      <td>0</td>\n",
       "      <td>0</td>\n",
       "    </tr>\n",
       "    <tr>\n",
       "      <th>1</th>\n",
       "      <td>10</td>\n",
       "      <td>479</td>\n",
       "      <td>0</td>\n",
       "      <td>0</td>\n",
       "      <td>0</td>\n",
       "    </tr>\n",
       "    <tr>\n",
       "      <th>2</th>\n",
       "      <td>0</td>\n",
       "      <td>0</td>\n",
       "      <td>451</td>\n",
       "      <td>2</td>\n",
       "      <td>0</td>\n",
       "    </tr>\n",
       "    <tr>\n",
       "      <th>3</th>\n",
       "      <td>0</td>\n",
       "      <td>0</td>\n",
       "      <td>5</td>\n",
       "      <td>330</td>\n",
       "      <td>2</td>\n",
       "    </tr>\n",
       "    <tr>\n",
       "      <th>4</th>\n",
       "      <td>0</td>\n",
       "      <td>0</td>\n",
       "      <td>2</td>\n",
       "      <td>1</td>\n",
       "      <td>431</td>\n",
       "    </tr>\n",
       "  </tbody>\n",
       "</table>\n",
       "</div>"
      ],
      "text/plain": [
       "     0    1    2    3    4\n",
       "0  500   17    0    0    0\n",
       "1   10  479    0    0    0\n",
       "2    0    0  451    2    0\n",
       "3    0    0    5  330    2\n",
       "4    0    0    2    1  431"
      ]
     },
     "execution_count": 16,
     "metadata": {},
     "output_type": "execute_result"
    }
   ],
   "source": [
    "y_pred = clf.predict(X_test)\n",
    "pd.DataFrame(confusion_matrix(y_test, y_pred, labels=['SITTING', 'STANDING', 'WALKING', 'WALKING_DOWNSTAIRS', 'WALKING_UPSTAIRS']))"
   ]
  },
  {
   "cell_type": "markdown",
   "metadata": {
    "cell_id": "00023-6bfd9027-56fb-4040-8ed2-451aae63e324",
    "deepnote_cell_type": "markdown",
    "tags": []
   },
   "source": [
    "The data visible in confusion matrix above shows that our model sometimes predicts wrong values for the following activities:\n",
    "* seating and standing - in both activities person is not moving and body is in vertical position. It is possible to differentiate between standing and seating using gyroscope data describing rotation around Y-axis.\n",
    "* walking and walking upstairs - in most cases acceleration in Y-axis is enough to differentiate between these activities but sometimes there may be some wrong predictions caused by uneven ground.\n",
    "* walking upstairs and walking downstairs - the main differences between these activities are velocity of execution and acceleration in Y-axis and different gyroscope values. It's difficult to determine why these activites were confused. The data may be a bit noisy or some entries were recorded in ambigous situations - like changing direction of movement.\n",
    "\n",
    "To interpret results we use SHAP. It allows to create visualiations showing which variables are the most important for trained classifier."
   ]
  },
  {
   "cell_type": "code",
   "execution_count": 21,
   "metadata": {
    "cell_id": "00030-93c1f0f2-9585-4660-80c9-f8a51284bf6c",
    "deepnote_cell_type": "code",
    "tags": []
   },
   "outputs": [],
   "source": [
    "explainer = shap.TreeExplainer(clf)\n",
    "shap_values = explainer.shap_values(X_test)"
   ]
  },
  {
   "cell_type": "markdown",
   "metadata": {
    "cell_id": "00032-3813ecc5-3c12-46a2-930b-ed1690d5822d",
    "deepnote_cell_type": "markdown",
    "tags": []
   },
   "source": [
    "We visualize feature importance for all classes."
   ]
  },
  {
   "cell_type": "code",
   "execution_count": 22,
   "metadata": {
    "cell_id": "00031-34d38be5-e3c5-4d20-a367-f44f2c4f9b41",
    "colab": {
     "base_uri": "https://localhost:8080/",
     "height": 581
    },
    "deepnote_cell_type": "code",
    "id": "GFeb_TltF1U2",
    "outputId": "39f191ba-6d4e-4d88-8a93-906a523f0e93"
   },
   "outputs": [
    {
     "data": {
      "image/png": "[encoded data removed]",
      "text/plain": [
       "<Figure size 576x684 with 1 Axes>"
      ]
     },
     "metadata": {
      "needs_background": "light"
     },
     "output_type": "display_data"
    }
   ],
   "source": [
    "shap.summary_plot(shap_values, X_test, class_names=model.classes_)"
   ]
  },
  {
   "cell_type": "markdown",
   "metadata": {
    "cell_id": "00033-b00f2e44-49fb-45d4-a312-5c9d7898c656",
    "deepnote_cell_type": "markdown",
    "id": "e1If_GmUk2Tq"
   },
   "source": [
    "We can observe that the most important features are tGravityAcc-mean()-Y (for standing and seating) and tBodyAcc-max()-X (for walking up- and downstairs). We build a more precise analysis for each activity."
   ]
  },
  {
   "cell_type": "markdown",
   "metadata": {
    "cell_id": "00037-cdc3e10b-7987-4058-aafb-3324d12f8107",
    "deepnote_cell_type": "text-cell-h3",
    "tags": []
   },
   "source": [
    "## Laying\n",
    "Class `LAYING` is determined using only `angle(X,gravityMean)` by checking if the value is greater than -1.553 (the phone is \"laying\"), thus it is determined using simple condition, before applying classifier. Because of that our model is less complex, therefore it will require less power to run. This is very desired as the classifier may run in real time on mobile device."
   ]
  },
  {
   "cell_type": "markdown",
   "metadata": {
    "cell_id": "00036-d86be81e-8585-4080-ae09-86e4a19e8411",
    "deepnote_cell_type": "text-cell-h3",
    "tags": []
   },
   "source": [
    "## Sitting\n",
    "Most of all, class `SITTING` depends on:\n",
    "* interquartile of transformed signal of X-axis from gyroscope\n",
    "* maximum value of signal of Y-axis from X-axis\n",
    "* mean value of linear acceleration on Y axis\n",
    "\n",
    "Importance of the X-axis signals gathered using gyroscope may be interpreted as \"rotating\" in place. Similar conclusions may be drawn from Y-axis accelerometer readings. Moves on this axis may suggest some moves in place, for example altering position while sitting.\n",
    "\n",
    "<div><img title='sitting' src='../images/sitting.png'></div>"
   ]
  },
  {
   "cell_type": "markdown",
   "metadata": {
    "cell_id": "00038-0d532d07-c085-4d30-8bc0-10d9c90391e1",
    "deepnote_cell_type": "text-cell-h3",
    "tags": []
   },
   "source": [
    "## Standing\n",
    "\n",
    "Most of all, class `STANDING` depends on:\n",
    "* simple moving average after signal applying FFT\n",
    "* interquartile of transformed signal of Y-axis from gyroscope\n",
    "* mean value of linear acceleration on Y axis\n",
    "\n",
    "For standing activity the most important variables are correlated with Y-axis, for both sensors - accelerometer and gyroscope. Confusion matrix above ([see here](#Results)) shows that most frequent confusions take place between sitting and standing. The most significant observed difference indicates that while standing person less frequently lean-forward and -backward and has more freedom while rotating.\n",
    "\n",
    "<div><img title='standing' src='../images/standing.png'></div>"
   ]
  },
  {
   "cell_type": "markdown",
   "metadata": {
    "cell_id": "00040-a1823b27-715b-4d7a-a1b0-dd51d0e30d39",
    "deepnote_cell_type": "text-cell-h3",
    "tags": []
   },
   "source": [
    "## Walking\n",
    "\n",
    "Most of all, class `WALKING` depends on:\n",
    "* jerk measured by acclerometer\n",
    "* maximum euclidean value of jerk modified by FFT\n",
    "* changes of values on Y-axis\n",
    "\n",
    "Therefore we derive the fact that important are movement recorded by accelerometer and swinging on Z-axis.\n",
    "\n",
    "<div><img title='walking' src='../images/walking.png'></div>"
   ]
  },
  {
   "cell_type": "markdown",
   "metadata": {
    "cell_id": "00042-7df59000-cac7-4b7a-95c4-4b9edffd3a6f",
    "deepnote_cell_type": "text-cell-h3",
    "tags": []
   },
   "source": [
    "## Walking downstairs\n",
    "\n",
    "Class `WALKING DOWNSTAIRS` may be derived by observing downward motion by accelerometer on X-axis. We focus on person velocity. It is the most rapid activities in the whole domain as a conseqence of making use of Earth acceleration.\n",
    "\n",
    "<div><img title='walking downstairs' src='../images/walking_downstairs.png'></div>"
   ]
  },
  {
   "cell_type": "markdown",
   "metadata": {
    "cell_id": "00044-1b06b1c8-143c-4f1c-9c18-babf811c536a",
    "deepnote_cell_type": "text-cell-h3",
    "tags": []
   },
   "source": [
    "## Walking upstairs\n",
    "\n",
    "Class `WALKING DOWNSTAIRS` depends on maximum value of acceleration on X-axis transformed by FFT. This derive information when person is moving upward. Changes on Z-axis are also important as walking upstairs may be described as rapid, a bit jerky and non-uniform forward motion.\n",
    "\n",
    "<div><img title='walking upstairs'src='../images/walking_upstairs.png'></div>"
   ]
  },
  {
   "cell_type": "markdown",
   "metadata": {
    "cell_id": "00051-8723fdb1-5a43-40a0-a3d1-d5589a9d2cdf",
    "deepnote_cell_type": "markdown",
    "tags": []
   },
   "source": [
    "# Buisness applications\n",
    "\n",
    "This classifier may be usefull in the following applications:\n",
    "* Smart Home\n",
    "    * Automation of the process of planning changes like opening blinds in the morning.\n",
    "    * Turning of lights on the ground floor when all inhabitants are upstairs - there was no `WALKING DOWNSTAIRS` state observed after last `WALKING UPSTAIRS`.\n",
    "* Monitoring physical activites\n",
    "    * Notifications like \"Move on!\" when the person stay in static state for a long time.\n",
    "    * Waking up person if she or he fall asleep while driving a car or on keybord during hackathon.\n",
    "* Monitoring elder people - detection of rapid changes of states which may suggest danger."
   ]
  },
  {
   "cell_type": "markdown",
   "metadata": {
    "cell_id": "00057-30edf4e0-ed9c-4ecc-ad1d-29bab20184b5",
    "deepnote_cell_type": "text-cell-h1",
    "tags": []
   },
   "source": [
    "# Bibliography"
   ]
  },
  {
   "cell_type": "markdown",
   "metadata": {
    "cell_id": "00057-088aeb81-9e52-46eb-990f-3107ecdc90ee",
    "deepnote_cell_type": "markdown",
    "tags": []
   },
   "source": [
    "\n",
    "1. [Energy Efficient Smartphone-Based Activity Recognition using Fixed-Point Arithmetic D. Anguita, A. Ghio, L. Oneto, X. Parra, Jorge Luis Reyes-Ortiz 2013](https://www.semanticscholar.org/paper/Energy-Efficient-Smartphone-Based-Activity-using-Anguita-Ghio/ed2cd4d99795a83a429d733e5cae5fab2dfb868f)       \n",
    "1. [Human Activity Recognition Using Smartphones Dataset](http://rstudio-pubs-static.s3.amazonaws.com/24009_c068b79c74ae4fec8913fc0bf7a8b451.html)     \n",
    "1. [Human Activity Recognition with Smartphones - Recordings of 30 study participants performing activities of daily living](https://www.kaggle.com/uciml/human-activity-recognition-with-smartphones)     \n",
    "1. [XGBoost documentation](https://xgboost.readthedocs.io/en/latest/treemethod.html)  \n",
    "1. [SHAP documentation](https://github.com/slundberg/shap)"
   ]
  }
 ],
 "metadata": {
  "colab": {
   "name": "bhl-hackathon.ipynb",
   "provenance": []
  },
  "deepnote": {},
  "deepnote_execution_queue": [],
  "deepnote_notebook_id": "d25f16c0-0255-4f65-a1a4-93b5001b2f1a",
  "kernelspec": {
   "display_name": "Python 3",
   "language": "python",
   "name": "python3"
  },
  "language_info": {
   "codemirror_mode": {
    "name": "ipython",
    "version": 3
   },
   "file_extension": ".py",
   "mimetype": "text/x-python",
   "name": "python",
   "nbconvert_exporter": "python",
   "pygments_lexer": "ipython3",
   "version": "3.7.6"
  },
  "toc": {
   "base_numbering": 1,
   "nav_menu": {},
   "number_sections": true,
   "sideBar": true,
   "skip_h1_title": false,
   "title_cell": "Table of Contents",
   "title_sidebar": "Contents",
   "toc_cell": false,
   "toc_position": {
    "height": "calc(100% - 180px)",
    "left": "10px",
    "top": "150px",
    "width": "248px"
   },
   "toc_section_display": true,
   "toc_window_display": true
  }
 },
 "nbformat": 4,
 "nbformat_minor": 1
}
