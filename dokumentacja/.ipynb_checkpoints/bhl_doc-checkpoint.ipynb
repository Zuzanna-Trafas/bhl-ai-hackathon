{
 "cells": [
  {
   "cell_type": "markdown",
   "metadata": {
    "cell_id": "00000-87655270-89a0-46ec-a206-7266ac72fde5",
    "deepnote_cell_type": "markdown",
    "tags": []
   },
   "source": [
    "# Spis treści\n",
    "1.1 [Import paczek](#Import-paczek)  \n",
    "1.2 [Ładowanie danych treningowych](#Ladowanie-danych-treningowych)  \n",
    "2.0 [Opis danych](#Opis-danych)  \n",
    "3.0 [Trenowanie modelu](#Trenowanie-modelu)  \n",
    "3.1 [Zrozumienie i interpretacja wyników](#Zrozumienie-i-interpretacja-wynikow)  \n",
    "3.1.1 [Laying](#Laying)  \n",
    "3.1.2 [Sitting](#Sitting)  \n",
    "3.1.3 [Walking](#Walking)  \n",
    "3.1.4 [Walking downstairs](#Walking-downstairs)  \n",
    "3.1.5 [Walking upstairs](#Walking-upstairs)     \n",
    "4.0 [Zastosowanie w biznesie](#Zastosowanie-w-biznesie)     \n",
    "5.0 [Bibliografia](#Bibliografia)"
   ]
  },
  {
   "cell_type": "markdown",
   "metadata": {
    "cell_id": "00000-444ccdf7-75f3-4368-8b40-f479fa47a4b9",
    "deepnote_cell_type": "markdown"
   },
   "source": [
    "## Import paczek"
   ]
  },
  {
   "cell_type": "code",
   "execution_count": 1,
   "metadata": {
    "cell_id": "00001-9ad498af-e91d-4511-8197-d81148c8cd30",
    "deepnote_cell_type": "code",
    "deepnote_to_be_reexecuted": false,
    "execution_millis": 339,
    "execution_start": 1618041758864,
    "id": "tkk-DYqp83Ic",
    "scrolled": true,
    "source_hash": "7c99d2f5"
   },
   "outputs": [
    {
     "name": "stderr",
     "output_type": "stream",
     "text": [
      "The sklearn.feature_selection.base module is  deprecated in version 0.22 and will be removed in version 0.24. The corresponding classes / functions should instead be imported from sklearn.feature_selection. Anything that cannot be imported from sklearn.feature_selection is now part of the private API.\n"
     ]
    }
   ],
   "source": [
    "import pandas as pd             # obróbka danych\n",
    "import numpy as np              # obróbka danych\n",
    "import matplotlib.pyplot as plt # wizualizacja danych\n",
    "import seaborn as sns           # wizualizacja danych\n",
    "from random import shuffle\n",
    "from plotnine import ggplot, geom_line, aes, stat_smooth, facet_wrap, theme_classic, ggtitle # wizualizacja danych\n",
    "\n",
    "import shap # wizualizacja znaczenia cech\n",
    "\n",
    "from sklearn.model_selection import train_test_split                    # podział danych na testowe i treningowe\n",
    "from sklearn.inspection import plot_partial_dependence\n",
    "from sklearn.feature_selection import VarianceThreshold                 # zmniejszenie wymiarowości danych\n",
    "from sklearn.feature_selection import SelectKBest, mutual_info_classif  # zmniejszenie wymiarowości danych\n",
    "from sklearn.metrics import confusion_matrix                            # analiza modelu\n",
    "from sklearn.linear_model import LogisticRegression                     # baseline\n",
    "\n",
    "import xgboost                                  # końcowy model\n",
    "from xgboost import XGBClassifier               # końcowy model\n",
    "\n",
    "import eli5\n",
    "from eli5.sklearn import PermutationImportance # obliczanie istotności cech"
   ]
  },
  {
   "cell_type": "markdown",
   "metadata": {
    "cell_id": "00002-6b432f73-e688-4d00-8a59-41f5b31bac18",
    "deepnote_cell_type": "markdown"
   },
   "source": [
    "## Ładowanie danych treningowych"
   ]
  },
  {
   "cell_type": "code",
   "execution_count": 2,
   "metadata": {
    "cell_id": "00003-c8663c3c-1d04-4428-9ff9-0e79becfae01",
    "deepnote_cell_type": "code",
    "deepnote_to_be_reexecuted": false,
    "execution_millis": 2972,
    "execution_start": 1618041889321,
    "source_hash": "f995f932"
   },
   "outputs": [],
   "source": [
    "train_data = pd.read_csv(\"../.data/final_train.csv\")"
   ]
  },
  {
   "cell_type": "markdown",
   "metadata": {
    "cell_id": "00004-c3f92a74-cd71-4e79-970f-1e810e3e34f9",
    "deepnote_cell_type": "markdown"
   },
   "source": [
    "# Czyszczenie danych oraz redukacja wymiarowości"
   ]
  },
  {
   "cell_type": "code",
   "execution_count": 3,
   "metadata": {
    "cell_id": "00005-d711c3bd-0908-4448-ab69-ddfeb56ee9ff",
    "colab": {
     "base_uri": "https://localhost:8080/",
     "height": 287
    },
    "deepnote_cell_type": "code",
    "deepnote_to_be_reexecuted": false,
    "execution_millis": 1758,
    "execution_start": 1618041898904,
    "id": "3CVe7ID5BBM7",
    "outputId": "6636b755-8029-43bb-f8d3-a5caab67291f",
    "scrolled": false,
    "source_hash": "33e89837"
   },
   "outputs": [
    {
     "data": {
      "text/html": [
       "<div>\n",
       "<style scoped>\n",
       "    .dataframe tbody tr th:only-of-type {\n",
       "        vertical-align: middle;\n",
       "    }\n",
       "\n",
       "    .dataframe tbody tr th {\n",
       "        vertical-align: top;\n",
       "    }\n",
       "\n",
       "    .dataframe thead th {\n",
       "        text-align: right;\n",
       "    }\n",
       "</style>\n",
       "<table border=\"1\" class=\"dataframe\">\n",
       "  <thead>\n",
       "    <tr style=\"text-align: right;\">\n",
       "      <th></th>\n",
       "      <th>Unnamed: 0</th>\n",
       "      <th>Activity</th>\n",
       "      <th>angle(X,gravityMean)</th>\n",
       "      <th>angle(Y,gravityMean)</th>\n",
       "      <th>angle(Z,gravityMean)</th>\n",
       "      <th>angle(tBodyAccJerkMean),gravityMean)</th>\n",
       "      <th>angle(tBodyAccMean,gravity)</th>\n",
       "      <th>angle(tBodyGyroJerkMean,gravityMean)</th>\n",
       "      <th>angle(tBodyGyroMean,gravityMean)</th>\n",
       "      <th>energy-mean()</th>\n",
       "      <th>...</th>\n",
       "      <th>tGravityAccMag-energy()</th>\n",
       "      <th>tGravityAccMag-entropy()</th>\n",
       "      <th>tGravityAccMag-iqr()</th>\n",
       "      <th>tGravityAccMag-mad()</th>\n",
       "      <th>tGravityAccMag-max()</th>\n",
       "      <th>tGravityAccMag-mean()</th>\n",
       "      <th>tGravityAccMag-min()</th>\n",
       "      <th>tGravityAccMag-sma()</th>\n",
       "      <th>tGravityAccMag-std()</th>\n",
       "      <th>void()</th>\n",
       "    </tr>\n",
       "  </thead>\n",
       "  <tbody>\n",
       "    <tr>\n",
       "      <th>0</th>\n",
       "      <td>0</td>\n",
       "      <td>STANDING</td>\n",
       "      <td>-1.574191</td>\n",
       "      <td>-0.805700</td>\n",
       "      <td>-2.453831</td>\n",
       "      <td>-1.861714</td>\n",
       "      <td>0.115517</td>\n",
       "      <td>-2.023369</td>\n",
       "      <td>3.125860</td>\n",
       "      <td>-9.474436</td>\n",
       "      <td>...</td>\n",
       "      <td>5.049130</td>\n",
       "      <td>3.272281</td>\n",
       "      <td>5.103018</td>\n",
       "      <td>-0.823302</td>\n",
       "      <td>3.063681</td>\n",
       "      <td>-0.928676</td>\n",
       "      <td>-1.007695</td>\n",
       "      <td>3.094236</td>\n",
       "      <td>1.669987</td>\n",
       "      <td>1.0</td>\n",
       "    </tr>\n",
       "    <tr>\n",
       "      <th>1</th>\n",
       "      <td>1</td>\n",
       "      <td>WALKING_UPSTAIRS</td>\n",
       "      <td>-1.568669</td>\n",
       "      <td>-0.612620</td>\n",
       "      <td>-2.488338</td>\n",
       "      <td>-1.751117</td>\n",
       "      <td>0.218134</td>\n",
       "      <td>0.280294</td>\n",
       "      <td>7.953403</td>\n",
       "      <td>-0.679894</td>\n",
       "      <td>...</td>\n",
       "      <td>4.565443</td>\n",
       "      <td>4.440779</td>\n",
       "      <td>3.288399</td>\n",
       "      <td>-2.689605</td>\n",
       "      <td>1.705341</td>\n",
       "      <td>-0.822617</td>\n",
       "      <td>-0.572410</td>\n",
       "      <td>-2.187890</td>\n",
       "      <td>-0.544652</td>\n",
       "      <td>2.0</td>\n",
       "    </tr>\n",
       "    <tr>\n",
       "      <th>2</th>\n",
       "      <td>2</td>\n",
       "      <td>LAYING</td>\n",
       "      <td>-1.548333</td>\n",
       "      <td>-0.139628</td>\n",
       "      <td>-2.380889</td>\n",
       "      <td>-1.915239</td>\n",
       "      <td>0.067613</td>\n",
       "      <td>-0.887342</td>\n",
       "      <td>6.007361</td>\n",
       "      <td>-11.906904</td>\n",
       "      <td>...</td>\n",
       "      <td>5.059609</td>\n",
       "      <td>2.296603</td>\n",
       "      <td>5.344174</td>\n",
       "      <td>-0.549843</td>\n",
       "      <td>3.272225</td>\n",
       "      <td>-0.940610</td>\n",
       "      <td>-1.031522</td>\n",
       "      <td>-2.071755</td>\n",
       "      <td>2.024442</td>\n",
       "      <td>3.0</td>\n",
       "    </tr>\n",
       "    <tr>\n",
       "      <th>3</th>\n",
       "      <td>3</td>\n",
       "      <td>WALKING</td>\n",
       "      <td>-1.574094</td>\n",
       "      <td>-0.793443</td>\n",
       "      <td>-2.449959</td>\n",
       "      <td>-1.842741</td>\n",
       "      <td>-0.195625</td>\n",
       "      <td>-0.950671</td>\n",
       "      <td>2.104353</td>\n",
       "      <td>-11.906121</td>\n",
       "      <td>...</td>\n",
       "      <td>4.860758</td>\n",
       "      <td>4.177535</td>\n",
       "      <td>3.950012</td>\n",
       "      <td>-0.322642</td>\n",
       "      <td>2.366287</td>\n",
       "      <td>-0.866937</td>\n",
       "      <td>-0.696431</td>\n",
       "      <td>1.863375</td>\n",
       "      <td>0.550414</td>\n",
       "      <td>2.0</td>\n",
       "    </tr>\n",
       "    <tr>\n",
       "      <th>4</th>\n",
       "      <td>4</td>\n",
       "      <td>LAYING</td>\n",
       "      <td>-1.548333</td>\n",
       "      <td>-0.139628</td>\n",
       "      <td>-2.380889</td>\n",
       "      <td>NaN</td>\n",
       "      <td>0.067613</td>\n",
       "      <td>-0.887342</td>\n",
       "      <td>6.007361</td>\n",
       "      <td>-11.970485</td>\n",
       "      <td>...</td>\n",
       "      <td>5.059609</td>\n",
       "      <td>2.296603</td>\n",
       "      <td>5.344174</td>\n",
       "      <td>-0.549843</td>\n",
       "      <td>3.272225</td>\n",
       "      <td>-0.940610</td>\n",
       "      <td>-1.031522</td>\n",
       "      <td>-2.102513</td>\n",
       "      <td>2.024442</td>\n",
       "      <td>3.0</td>\n",
       "    </tr>\n",
       "  </tbody>\n",
       "</table>\n",
       "<p>5 rows × 573 columns</p>\n",
       "</div>"
      ],
      "text/plain": [
       "   Unnamed: 0          Activity  angle(X,gravityMean)  angle(Y,gravityMean)  \\\n",
       "0           0          STANDING             -1.574191             -0.805700   \n",
       "1           1  WALKING_UPSTAIRS             -1.568669             -0.612620   \n",
       "2           2            LAYING             -1.548333             -0.139628   \n",
       "3           3           WALKING             -1.574094             -0.793443   \n",
       "4           4            LAYING             -1.548333             -0.139628   \n",
       "\n",
       "   angle(Z,gravityMean)  angle(tBodyAccJerkMean),gravityMean)  \\\n",
       "0             -2.453831                             -1.861714   \n",
       "1             -2.488338                             -1.751117   \n",
       "2             -2.380889                             -1.915239   \n",
       "3             -2.449959                             -1.842741   \n",
       "4             -2.380889                                   NaN   \n",
       "\n",
       "   angle(tBodyAccMean,gravity)  angle(tBodyGyroJerkMean,gravityMean)  \\\n",
       "0                     0.115517                             -2.023369   \n",
       "1                     0.218134                              0.280294   \n",
       "2                     0.067613                             -0.887342   \n",
       "3                    -0.195625                             -0.950671   \n",
       "4                     0.067613                             -0.887342   \n",
       "\n",
       "   angle(tBodyGyroMean,gravityMean)  energy-mean()  ...  \\\n",
       "0                          3.125860      -9.474436  ...   \n",
       "1                          7.953403      -0.679894  ...   \n",
       "2                          6.007361     -11.906904  ...   \n",
       "3                          2.104353     -11.906121  ...   \n",
       "4                          6.007361     -11.970485  ...   \n",
       "\n",
       "   tGravityAccMag-energy()  tGravityAccMag-entropy()  tGravityAccMag-iqr()  \\\n",
       "0                 5.049130                  3.272281              5.103018   \n",
       "1                 4.565443                  4.440779              3.288399   \n",
       "2                 5.059609                  2.296603              5.344174   \n",
       "3                 4.860758                  4.177535              3.950012   \n",
       "4                 5.059609                  2.296603              5.344174   \n",
       "\n",
       "   tGravityAccMag-mad()  tGravityAccMag-max()  tGravityAccMag-mean()  \\\n",
       "0             -0.823302              3.063681              -0.928676   \n",
       "1             -2.689605              1.705341              -0.822617   \n",
       "2             -0.549843              3.272225              -0.940610   \n",
       "3             -0.322642              2.366287              -0.866937   \n",
       "4             -0.549843              3.272225              -0.940610   \n",
       "\n",
       "   tGravityAccMag-min()  tGravityAccMag-sma()  tGravityAccMag-std()  void()  \n",
       "0             -1.007695              3.094236              1.669987     1.0  \n",
       "1             -0.572410             -2.187890             -0.544652     2.0  \n",
       "2             -1.031522             -2.071755              2.024442     3.0  \n",
       "3             -0.696431              1.863375              0.550414     2.0  \n",
       "4             -1.031522             -2.102513              2.024442     3.0  \n",
       "\n",
       "[5 rows x 573 columns]"
      ]
     },
     "execution_count": 3,
     "metadata": {},
     "output_type": "execute_result"
    }
   ],
   "source": [
    "train_data.head()"
   ]
  },
  {
   "cell_type": "markdown",
   "metadata": {
    "cell_id": "00008-efa41560-face-4bbb-a544-38a054ec5e62",
    "deepnote_cell_type": "markdown",
    "tags": []
   },
   "source": [
    "Wszystkie dane pochodzą z akcelerometru (zdjęcie po lewej) i żyroskopu (zdjęcie po prawej). Są to odniesienia względem osi XYZ. Oprócz surowych danych z urządzenia znajdują się też wartości uzyskane dzięki wykorzystaniu szybkiej transformaty Fouriera (FFT).\n",
    "\n",
    "<table><tr><td><img title='akcelerometr 'src='../zdjęcia/akcelerometr.png'></td><td><img title='żyroskop 'src='../zdjęcia/żyroskop.png'></td></tr></table>\n",
    "\n",
    "Telefon przymocowany był w pozycji poziomej do pasa użytkownika.\n",
    "\n",
    "<div style=\"text-align: center;\">\n",
    "<img title='pozycja' src='../zdjęcia/pozycja.png'>\n",
    "</div>"
   ]
  },
  {
   "cell_type": "markdown",
   "metadata": {
    "cell_id": "00009-9e4c5cc9-4064-4404-a61b-96438fc389b3",
    "deepnote_cell_type": "markdown",
    "tags": []
   },
   "source": [
    "Wykonajmy histogram wartości dla parametru \"angle(X,gravityMean)\" (wykorzystaliśmy bibliotekę SHAP żeby zidentyfikować go jako najistotniejszy parametr dla modelu)."
   ]
  },
  {
   "cell_type": "code",
   "execution_count": 4,
   "metadata": {
    "cell_id": "00008-909169a3-f47d-43e1-b0d4-7da467ffcb58",
    "deepnote_cell_type": "code",
    "deepnote_to_be_reexecuted": false,
    "execution_millis": 900,
    "execution_start": 1618041904763,
    "source_hash": "7f2d2328",
    "tags": []
   },
   "outputs": [
    {
     "data": {
      "text/plain": [
       "<matplotlib.legend.Legend at 0x7f17839d0590>"
      ]
     },
     "execution_count": 4,
     "metadata": {},
     "output_type": "execute_result"
    },
    {
     "data": {
      "image/png": "[encoded data removed]",
      "text/plain": [
       "<Figure size 432x288 with 1 Axes>"
      ]
     },
     "metadata": {
      "needs_background": "light"
     },
     "output_type": "display_data"
    }
   ],
   "source": [
    "laying = train_data.loc[train_data.Activity == \"LAYING\", \"angle(X,gravityMean)\"]\n",
    "sitting = train_data.loc[train_data.Activity == \"SITTING\", \"angle(X,gravityMean)\"]\n",
    "standing = train_data.loc[train_data.Activity == \"STANDING\", \"angle(X,gravityMean)\"]\n",
    "walking = train_data.loc[train_data.Activity == \"WALKING\", \"angle(X,gravityMean)\"]\n",
    "walking_downstairs = train_data.loc[train_data.Activity == \"WALKING_DOWNSTAIRS\", \"angle(X,gravityMean)\"]\n",
    "walking_upstairs = train_data.loc[train_data.Activity == \"WALKING_UPSTAIRS\", \"angle(X,gravityMean)\"]\n",
    "\n",
    "kwargs = dict(alpha=0.5, bins=20)\n",
    "\n",
    "plt.hist(laying, **kwargs, color=\"b\", label=\"Laying\")\n",
    "plt.hist(sitting, **kwargs, color=\"y\", label=\"Sitting\")\n",
    "plt.hist(standing, **kwargs, color=\"g\", label=\"Standing\")\n",
    "plt.hist(walking, **kwargs, color=\"r\", label=\"Walking\")\n",
    "plt.hist(walking_downstairs, **kwargs, color=\"c\", label=\"Walking downstairs\")\n",
    "plt.hist(walking_upstairs, **kwargs, color=\"m\", label=\"Walking upstairs\")\n",
    "\n",
    "plt.legend()"
   ]
  },
  {
   "cell_type": "markdown",
   "metadata": {
    "cell_id": "00009-3adebe78-99fc-44f7-9a53-1bc1b9e780a7",
    "deepnote_cell_type": "markdown",
    "tags": []
   },
   "source": [
    "Widać, że możemy uzależnić aktywność leżenia wyłączne od tej cechy. Jeżeli dla danego rekordu jej wartość jest wyższa niż -1.553 to automatycznie przypisujemy mu kategorię \"LAYING\". Dzięki temu przy trenowaniu modelu nie musimy uwzględniać tej klasy, dzięki czemu **nasz model jest dużo lżejszy**, wykonywał mniej operacji i tym samym - będzie **pobierał mniej energii** po umieszczeniu na urządzeniu docelowym."
   ]
  },
  {
   "cell_type": "code",
   "execution_count": 5,
   "metadata": {
    "cell_id": "00010-eec68f6d-b9a1-469e-b857-ffb35e97c94c",
    "deepnote_cell_type": "code",
    "deepnote_to_be_reexecuted": false,
    "execution_millis": 38,
    "execution_start": 1618042003245,
    "source_hash": "87d70b2a",
    "tags": []
   },
   "outputs": [],
   "source": [
    "train_data.drop(train_data[train_data['angle(X,gravityMean)'] > -1.553].index, axis=0, inplace=True)"
   ]
  },
  {
   "cell_type": "code",
   "execution_count": 6,
   "metadata": {},
   "outputs": [
    {
     "data": {
      "text/html": [
       "<div>\n",
       "<style scoped>\n",
       "    .dataframe tbody tr th:only-of-type {\n",
       "        vertical-align: middle;\n",
       "    }\n",
       "\n",
       "    .dataframe tbody tr th {\n",
       "        vertical-align: top;\n",
       "    }\n",
       "\n",
       "    .dataframe thead th {\n",
       "        text-align: right;\n",
       "    }\n",
       "</style>\n",
       "<table border=\"1\" class=\"dataframe\">\n",
       "  <thead>\n",
       "    <tr style=\"text-align: right;\">\n",
       "      <th></th>\n",
       "      <th>Unnamed: 0</th>\n",
       "      <th>Activity</th>\n",
       "      <th>angle(X,gravityMean)</th>\n",
       "      <th>angle(Y,gravityMean)</th>\n",
       "      <th>angle(Z,gravityMean)</th>\n",
       "      <th>angle(tBodyAccJerkMean),gravityMean)</th>\n",
       "      <th>angle(tBodyAccMean,gravity)</th>\n",
       "      <th>angle(tBodyGyroJerkMean,gravityMean)</th>\n",
       "      <th>angle(tBodyGyroMean,gravityMean)</th>\n",
       "      <th>energy-mean()</th>\n",
       "      <th>...</th>\n",
       "      <th>tGravityAccMag-energy()</th>\n",
       "      <th>tGravityAccMag-entropy()</th>\n",
       "      <th>tGravityAccMag-iqr()</th>\n",
       "      <th>tGravityAccMag-mad()</th>\n",
       "      <th>tGravityAccMag-max()</th>\n",
       "      <th>tGravityAccMag-mean()</th>\n",
       "      <th>tGravityAccMag-min()</th>\n",
       "      <th>tGravityAccMag-sma()</th>\n",
       "      <th>tGravityAccMag-std()</th>\n",
       "      <th>void()</th>\n",
       "    </tr>\n",
       "  </thead>\n",
       "  <tbody>\n",
       "    <tr>\n",
       "      <th>0</th>\n",
       "      <td>0</td>\n",
       "      <td>STANDING</td>\n",
       "      <td>-1.574191</td>\n",
       "      <td>-0.805700</td>\n",
       "      <td>-2.453831</td>\n",
       "      <td>-1.861714</td>\n",
       "      <td>0.115517</td>\n",
       "      <td>-2.023369</td>\n",
       "      <td>3.125860</td>\n",
       "      <td>-9.474436</td>\n",
       "      <td>...</td>\n",
       "      <td>5.049130</td>\n",
       "      <td>3.272281</td>\n",
       "      <td>5.103018</td>\n",
       "      <td>-0.823302</td>\n",
       "      <td>3.063681</td>\n",
       "      <td>-0.928676</td>\n",
       "      <td>-1.007695</td>\n",
       "      <td>3.094236</td>\n",
       "      <td>1.669987</td>\n",
       "      <td>1.0</td>\n",
       "    </tr>\n",
       "    <tr>\n",
       "      <th>1</th>\n",
       "      <td>1</td>\n",
       "      <td>WALKING_UPSTAIRS</td>\n",
       "      <td>-1.568669</td>\n",
       "      <td>-0.612620</td>\n",
       "      <td>-2.488338</td>\n",
       "      <td>-1.751117</td>\n",
       "      <td>0.218134</td>\n",
       "      <td>0.280294</td>\n",
       "      <td>7.953403</td>\n",
       "      <td>-0.679894</td>\n",
       "      <td>...</td>\n",
       "      <td>4.565443</td>\n",
       "      <td>4.440779</td>\n",
       "      <td>3.288399</td>\n",
       "      <td>-2.689605</td>\n",
       "      <td>1.705341</td>\n",
       "      <td>-0.822617</td>\n",
       "      <td>-0.572410</td>\n",
       "      <td>-2.187890</td>\n",
       "      <td>-0.544652</td>\n",
       "      <td>2.0</td>\n",
       "    </tr>\n",
       "    <tr>\n",
       "      <th>3</th>\n",
       "      <td>3</td>\n",
       "      <td>WALKING</td>\n",
       "      <td>-1.574094</td>\n",
       "      <td>-0.793443</td>\n",
       "      <td>-2.449959</td>\n",
       "      <td>-1.842741</td>\n",
       "      <td>-0.195625</td>\n",
       "      <td>-0.950671</td>\n",
       "      <td>2.104353</td>\n",
       "      <td>-11.906121</td>\n",
       "      <td>...</td>\n",
       "      <td>4.860758</td>\n",
       "      <td>4.177535</td>\n",
       "      <td>3.950012</td>\n",
       "      <td>-0.322642</td>\n",
       "      <td>2.366287</td>\n",
       "      <td>-0.866937</td>\n",
       "      <td>-0.696431</td>\n",
       "      <td>1.863375</td>\n",
       "      <td>0.550414</td>\n",
       "      <td>2.0</td>\n",
       "    </tr>\n",
       "    <tr>\n",
       "      <th>5</th>\n",
       "      <td>5</td>\n",
       "      <td>SITTING</td>\n",
       "      <td>-1.575809</td>\n",
       "      <td>-0.640703</td>\n",
       "      <td>-2.460251</td>\n",
       "      <td>-1.849850</td>\n",
       "      <td>0.174633</td>\n",
       "      <td>-0.151900</td>\n",
       "      <td>3.562269</td>\n",
       "      <td>-5.978664</td>\n",
       "      <td>...</td>\n",
       "      <td>5.012806</td>\n",
       "      <td>3.784507</td>\n",
       "      <td>4.524738</td>\n",
       "      <td>-6.202087</td>\n",
       "      <td>2.763802</td>\n",
       "      <td>-0.913074</td>\n",
       "      <td>-0.991923</td>\n",
       "      <td>2.783184</td>\n",
       "      <td>0.946387</td>\n",
       "      <td>2.0</td>\n",
       "    </tr>\n",
       "    <tr>\n",
       "      <th>7</th>\n",
       "      <td>7</td>\n",
       "      <td>STANDING</td>\n",
       "      <td>-1.567323</td>\n",
       "      <td>-0.857850</td>\n",
       "      <td>-2.490082</td>\n",
       "      <td>-1.832982</td>\n",
       "      <td>0.112276</td>\n",
       "      <td>-0.738710</td>\n",
       "      <td>7.961757</td>\n",
       "      <td>-9.302665</td>\n",
       "      <td>...</td>\n",
       "      <td>5.060179</td>\n",
       "      <td>2.089889</td>\n",
       "      <td>5.362029</td>\n",
       "      <td>-0.555530</td>\n",
       "      <td>3.272104</td>\n",
       "      <td>-0.942724</td>\n",
       "      <td>-1.030745</td>\n",
       "      <td>-2.238799</td>\n",
       "      <td>2.010097</td>\n",
       "      <td>1.0</td>\n",
       "    </tr>\n",
       "    <tr>\n",
       "      <th>...</th>\n",
       "      <td>...</td>\n",
       "      <td>...</td>\n",
       "      <td>...</td>\n",
       "      <td>...</td>\n",
       "      <td>...</td>\n",
       "      <td>...</td>\n",
       "      <td>...</td>\n",
       "      <td>...</td>\n",
       "      <td>...</td>\n",
       "      <td>...</td>\n",
       "      <td>...</td>\n",
       "      <td>...</td>\n",
       "      <td>...</td>\n",
       "      <td>...</td>\n",
       "      <td>...</td>\n",
       "      <td>...</td>\n",
       "      <td>...</td>\n",
       "      <td>...</td>\n",
       "      <td>...</td>\n",
       "      <td>...</td>\n",
       "      <td>...</td>\n",
       "    </tr>\n",
       "    <tr>\n",
       "      <th>11080</th>\n",
       "      <td>11080</td>\n",
       "      <td>WALKING_DOWNSTAIRS</td>\n",
       "      <td>-1.575492</td>\n",
       "      <td>-0.614487</td>\n",
       "      <td>-2.452436</td>\n",
       "      <td>-1.732651</td>\n",
       "      <td>-0.418138</td>\n",
       "      <td>1.768320</td>\n",
       "      <td>5.163003</td>\n",
       "      <td>-4.868354</td>\n",
       "      <td>...</td>\n",
       "      <td>4.044203</td>\n",
       "      <td>4.604386</td>\n",
       "      <td>2.021879</td>\n",
       "      <td>-3.945744</td>\n",
       "      <td>1.298908</td>\n",
       "      <td>-0.769566</td>\n",
       "      <td>-0.737230</td>\n",
       "      <td>-1.986261</td>\n",
       "      <td>-1.792696</td>\n",
       "      <td>1.0</td>\n",
       "    </tr>\n",
       "    <tr>\n",
       "      <th>11081</th>\n",
       "      <td>11081</td>\n",
       "      <td>WALKING_UPSTAIRS</td>\n",
       "      <td>-1.568669</td>\n",
       "      <td>-0.612620</td>\n",
       "      <td>-2.488338</td>\n",
       "      <td>-1.751117</td>\n",
       "      <td>0.218134</td>\n",
       "      <td>0.280294</td>\n",
       "      <td>7.953403</td>\n",
       "      <td>-0.679894</td>\n",
       "      <td>...</td>\n",
       "      <td>4.565443</td>\n",
       "      <td>4.440779</td>\n",
       "      <td>3.288399</td>\n",
       "      <td>-2.689605</td>\n",
       "      <td>1.705341</td>\n",
       "      <td>-0.822617</td>\n",
       "      <td>-0.572410</td>\n",
       "      <td>3.534816</td>\n",
       "      <td>-0.544652</td>\n",
       "      <td>2.0</td>\n",
       "    </tr>\n",
       "    <tr>\n",
       "      <th>11083</th>\n",
       "      <td>11083</td>\n",
       "      <td>WALKING_UPSTAIRS</td>\n",
       "      <td>-1.569815</td>\n",
       "      <td>-0.794940</td>\n",
       "      <td>-2.482325</td>\n",
       "      <td>-1.784151</td>\n",
       "      <td>0.021844</td>\n",
       "      <td>-0.740329</td>\n",
       "      <td>8.005261</td>\n",
       "      <td>-11.916107</td>\n",
       "      <td>...</td>\n",
       "      <td>4.453514</td>\n",
       "      <td>4.302852</td>\n",
       "      <td>2.979961</td>\n",
       "      <td>-6.032382</td>\n",
       "      <td>1.853029</td>\n",
       "      <td>-0.802817</td>\n",
       "      <td>0.041975</td>\n",
       "      <td>3.427548</td>\n",
       "      <td>-0.075184</td>\n",
       "      <td>1.0</td>\n",
       "    </tr>\n",
       "    <tr>\n",
       "      <th>11084</th>\n",
       "      <td>11084</td>\n",
       "      <td>WALKING_DOWNSTAIRS</td>\n",
       "      <td>-1.574768</td>\n",
       "      <td>-0.752847</td>\n",
       "      <td>-2.449529</td>\n",
       "      <td>-1.737755</td>\n",
       "      <td>-0.189761</td>\n",
       "      <td>-0.454246</td>\n",
       "      <td>8.054443</td>\n",
       "      <td>-5.611277</td>\n",
       "      <td>...</td>\n",
       "      <td>4.615939</td>\n",
       "      <td>4.443277</td>\n",
       "      <td>3.208597</td>\n",
       "      <td>-6.200222</td>\n",
       "      <td>1.675269</td>\n",
       "      <td>-0.828934</td>\n",
       "      <td>-0.877004</td>\n",
       "      <td>3.385405</td>\n",
       "      <td>-0.383217</td>\n",
       "      <td>3.0</td>\n",
       "    </tr>\n",
       "    <tr>\n",
       "      <th>11085</th>\n",
       "      <td>11085</td>\n",
       "      <td>WALKING</td>\n",
       "      <td>-1.573186</td>\n",
       "      <td>-0.584008</td>\n",
       "      <td>-2.469062</td>\n",
       "      <td>-1.770029</td>\n",
       "      <td>-0.589358</td>\n",
       "      <td>-1.695744</td>\n",
       "      <td>7.306605</td>\n",
       "      <td>-11.917694</td>\n",
       "      <td>...</td>\n",
       "      <td>4.734942</td>\n",
       "      <td>4.304923</td>\n",
       "      <td>3.757613</td>\n",
       "      <td>-2.112537</td>\n",
       "      <td>2.081746</td>\n",
       "      <td>-0.843569</td>\n",
       "      <td>-0.423656</td>\n",
       "      <td>1.397488</td>\n",
       "      <td>0.244843</td>\n",
       "      <td>1.0</td>\n",
       "    </tr>\n",
       "  </tbody>\n",
       "</table>\n",
       "<p>8937 rows × 573 columns</p>\n",
       "</div>"
      ],
      "text/plain": [
       "       Unnamed: 0            Activity  angle(X,gravityMean)  \\\n",
       "0               0            STANDING             -1.574191   \n",
       "1               1    WALKING_UPSTAIRS             -1.568669   \n",
       "3               3             WALKING             -1.574094   \n",
       "5               5             SITTING             -1.575809   \n",
       "7               7            STANDING             -1.567323   \n",
       "...           ...                 ...                   ...   \n",
       "11080       11080  WALKING_DOWNSTAIRS             -1.575492   \n",
       "11081       11081    WALKING_UPSTAIRS             -1.568669   \n",
       "11083       11083    WALKING_UPSTAIRS             -1.569815   \n",
       "11084       11084  WALKING_DOWNSTAIRS             -1.574768   \n",
       "11085       11085             WALKING             -1.573186   \n",
       "\n",
       "       angle(Y,gravityMean)  angle(Z,gravityMean)  \\\n",
       "0                 -0.805700             -2.453831   \n",
       "1                 -0.612620             -2.488338   \n",
       "3                 -0.793443             -2.449959   \n",
       "5                 -0.640703             -2.460251   \n",
       "7                 -0.857850             -2.490082   \n",
       "...                     ...                   ...   \n",
       "11080             -0.614487             -2.452436   \n",
       "11081             -0.612620             -2.488338   \n",
       "11083             -0.794940             -2.482325   \n",
       "11084             -0.752847             -2.449529   \n",
       "11085             -0.584008             -2.469062   \n",
       "\n",
       "       angle(tBodyAccJerkMean),gravityMean)  angle(tBodyAccMean,gravity)  \\\n",
       "0                                 -1.861714                     0.115517   \n",
       "1                                 -1.751117                     0.218134   \n",
       "3                                 -1.842741                    -0.195625   \n",
       "5                                 -1.849850                     0.174633   \n",
       "7                                 -1.832982                     0.112276   \n",
       "...                                     ...                          ...   \n",
       "11080                             -1.732651                    -0.418138   \n",
       "11081                             -1.751117                     0.218134   \n",
       "11083                             -1.784151                     0.021844   \n",
       "11084                             -1.737755                    -0.189761   \n",
       "11085                             -1.770029                    -0.589358   \n",
       "\n",
       "       angle(tBodyGyroJerkMean,gravityMean)  angle(tBodyGyroMean,gravityMean)  \\\n",
       "0                                 -2.023369                          3.125860   \n",
       "1                                  0.280294                          7.953403   \n",
       "3                                 -0.950671                          2.104353   \n",
       "5                                 -0.151900                          3.562269   \n",
       "7                                 -0.738710                          7.961757   \n",
       "...                                     ...                               ...   \n",
       "11080                              1.768320                          5.163003   \n",
       "11081                              0.280294                          7.953403   \n",
       "11083                             -0.740329                          8.005261   \n",
       "11084                             -0.454246                          8.054443   \n",
       "11085                             -1.695744                          7.306605   \n",
       "\n",
       "       energy-mean()  ...  tGravityAccMag-energy()  tGravityAccMag-entropy()  \\\n",
       "0          -9.474436  ...                 5.049130                  3.272281   \n",
       "1          -0.679894  ...                 4.565443                  4.440779   \n",
       "3         -11.906121  ...                 4.860758                  4.177535   \n",
       "5          -5.978664  ...                 5.012806                  3.784507   \n",
       "7          -9.302665  ...                 5.060179                  2.089889   \n",
       "...              ...  ...                      ...                       ...   \n",
       "11080      -4.868354  ...                 4.044203                  4.604386   \n",
       "11081      -0.679894  ...                 4.565443                  4.440779   \n",
       "11083     -11.916107  ...                 4.453514                  4.302852   \n",
       "11084      -5.611277  ...                 4.615939                  4.443277   \n",
       "11085     -11.917694  ...                 4.734942                  4.304923   \n",
       "\n",
       "       tGravityAccMag-iqr()  tGravityAccMag-mad()  tGravityAccMag-max()  \\\n",
       "0                  5.103018             -0.823302              3.063681   \n",
       "1                  3.288399             -2.689605              1.705341   \n",
       "3                  3.950012             -0.322642              2.366287   \n",
       "5                  4.524738             -6.202087              2.763802   \n",
       "7                  5.362029             -0.555530              3.272104   \n",
       "...                     ...                   ...                   ...   \n",
       "11080              2.021879             -3.945744              1.298908   \n",
       "11081              3.288399             -2.689605              1.705341   \n",
       "11083              2.979961             -6.032382              1.853029   \n",
       "11084              3.208597             -6.200222              1.675269   \n",
       "11085              3.757613             -2.112537              2.081746   \n",
       "\n",
       "       tGravityAccMag-mean()  tGravityAccMag-min()  tGravityAccMag-sma()  \\\n",
       "0                  -0.928676             -1.007695              3.094236   \n",
       "1                  -0.822617             -0.572410             -2.187890   \n",
       "3                  -0.866937             -0.696431              1.863375   \n",
       "5                  -0.913074             -0.991923              2.783184   \n",
       "7                  -0.942724             -1.030745             -2.238799   \n",
       "...                      ...                   ...                   ...   \n",
       "11080              -0.769566             -0.737230             -1.986261   \n",
       "11081              -0.822617             -0.572410              3.534816   \n",
       "11083              -0.802817              0.041975              3.427548   \n",
       "11084              -0.828934             -0.877004              3.385405   \n",
       "11085              -0.843569             -0.423656              1.397488   \n",
       "\n",
       "       tGravityAccMag-std()  void()  \n",
       "0                  1.669987     1.0  \n",
       "1                 -0.544652     2.0  \n",
       "3                  0.550414     2.0  \n",
       "5                  0.946387     2.0  \n",
       "7                  2.010097     1.0  \n",
       "...                     ...     ...  \n",
       "11080             -1.792696     1.0  \n",
       "11081             -0.544652     2.0  \n",
       "11083             -0.075184     1.0  \n",
       "11084             -0.383217     3.0  \n",
       "11085              0.244843     1.0  \n",
       "\n",
       "[8937 rows x 573 columns]"
      ]
     },
     "execution_count": 6,
     "metadata": {},
     "output_type": "execute_result"
    }
   ],
   "source": [
    "train_data"
   ]
  },
  {
   "cell_type": "markdown",
   "metadata": {},
   "source": [
    "Usuwamy zmienną zawierającą id obserwacji o nazwie `Unnamed: 0` oraz zmienną `subject`, która opisuje id obserwowanej osoby. Zastosowanie tych zmiennych skutkowałoby przeuczeniem modelu."
   ]
  },
  {
   "cell_type": "code",
   "execution_count": 7,
   "metadata": {},
   "outputs": [],
   "source": [
    "train_data.drop([\"Unnamed: 0\", \"subject\"], axis='columns', inplace=True)"
   ]
  },
  {
   "cell_type": "markdown",
   "metadata": {
    "cell_id": "00011-c6db74c8-c377-44c8-847c-7698521f052e",
    "deepnote_cell_type": "markdown",
    "tags": []
   },
   "source": [
    "Usuwamy cechy z niską wariancją, które nie są istotne dla predykcji."
   ]
  },
  {
   "cell_type": "code",
   "execution_count": 8,
   "metadata": {},
   "outputs": [
    {
     "data": {
      "text/html": [
       "<div>\n",
       "<style scoped>\n",
       "    .dataframe tbody tr th:only-of-type {\n",
       "        vertical-align: middle;\n",
       "    }\n",
       "\n",
       "    .dataframe tbody tr th {\n",
       "        vertical-align: top;\n",
       "    }\n",
       "\n",
       "    .dataframe thead th {\n",
       "        text-align: right;\n",
       "    }\n",
       "</style>\n",
       "<table border=\"1\" class=\"dataframe\">\n",
       "  <thead>\n",
       "    <tr style=\"text-align: right;\">\n",
       "      <th></th>\n",
       "      <th>Activity</th>\n",
       "      <th>angle(X,gravityMean)</th>\n",
       "      <th>angle(Y,gravityMean)</th>\n",
       "      <th>angle(Z,gravityMean)</th>\n",
       "      <th>angle(tBodyAccJerkMean),gravityMean)</th>\n",
       "      <th>angle(tBodyAccMean,gravity)</th>\n",
       "      <th>angle(tBodyGyroJerkMean,gravityMean)</th>\n",
       "      <th>angle(tBodyGyroMean,gravityMean)</th>\n",
       "      <th>energy-mean()</th>\n",
       "      <th>fBodyAcc-bandsEnergy()-1,16</th>\n",
       "      <th>...</th>\n",
       "      <th>tGravityAccMag-energy()</th>\n",
       "      <th>tGravityAccMag-entropy()</th>\n",
       "      <th>tGravityAccMag-iqr()</th>\n",
       "      <th>tGravityAccMag-mad()</th>\n",
       "      <th>tGravityAccMag-max()</th>\n",
       "      <th>tGravityAccMag-mean()</th>\n",
       "      <th>tGravityAccMag-min()</th>\n",
       "      <th>tGravityAccMag-sma()</th>\n",
       "      <th>tGravityAccMag-std()</th>\n",
       "      <th>void()</th>\n",
       "    </tr>\n",
       "  </thead>\n",
       "  <tbody>\n",
       "    <tr>\n",
       "      <th>0</th>\n",
       "      <td>STANDING</td>\n",
       "      <td>-1.574191</td>\n",
       "      <td>-0.805700</td>\n",
       "      <td>-2.453831</td>\n",
       "      <td>-1.861714</td>\n",
       "      <td>0.115517</td>\n",
       "      <td>-2.023369</td>\n",
       "      <td>3.125860</td>\n",
       "      <td>-9.474436</td>\n",
       "      <td>3.622600</td>\n",
       "      <td>...</td>\n",
       "      <td>5.049130</td>\n",
       "      <td>3.272281</td>\n",
       "      <td>5.103018</td>\n",
       "      <td>-0.823302</td>\n",
       "      <td>3.063681</td>\n",
       "      <td>-0.928676</td>\n",
       "      <td>-1.007695</td>\n",
       "      <td>3.094236</td>\n",
       "      <td>1.669987</td>\n",
       "      <td>1.0</td>\n",
       "    </tr>\n",
       "    <tr>\n",
       "      <th>1</th>\n",
       "      <td>WALKING_UPSTAIRS</td>\n",
       "      <td>-1.568669</td>\n",
       "      <td>-0.612620</td>\n",
       "      <td>-2.488338</td>\n",
       "      <td>-1.751117</td>\n",
       "      <td>0.218134</td>\n",
       "      <td>0.280294</td>\n",
       "      <td>7.953403</td>\n",
       "      <td>-0.679894</td>\n",
       "      <td>2.512880</td>\n",
       "      <td>...</td>\n",
       "      <td>4.565443</td>\n",
       "      <td>4.440779</td>\n",
       "      <td>3.288399</td>\n",
       "      <td>-2.689605</td>\n",
       "      <td>1.705341</td>\n",
       "      <td>-0.822617</td>\n",
       "      <td>-0.572410</td>\n",
       "      <td>-2.187890</td>\n",
       "      <td>-0.544652</td>\n",
       "      <td>2.0</td>\n",
       "    </tr>\n",
       "    <tr>\n",
       "      <th>3</th>\n",
       "      <td>WALKING</td>\n",
       "      <td>-1.574094</td>\n",
       "      <td>-0.793443</td>\n",
       "      <td>-2.449959</td>\n",
       "      <td>-1.842741</td>\n",
       "      <td>-0.195625</td>\n",
       "      <td>-0.950671</td>\n",
       "      <td>2.104353</td>\n",
       "      <td>-11.906121</td>\n",
       "      <td>3.355701</td>\n",
       "      <td>...</td>\n",
       "      <td>4.860758</td>\n",
       "      <td>4.177535</td>\n",
       "      <td>3.950012</td>\n",
       "      <td>-0.322642</td>\n",
       "      <td>2.366287</td>\n",
       "      <td>-0.866937</td>\n",
       "      <td>-0.696431</td>\n",
       "      <td>1.863375</td>\n",
       "      <td>0.550414</td>\n",
       "      <td>2.0</td>\n",
       "    </tr>\n",
       "    <tr>\n",
       "      <th>5</th>\n",
       "      <td>SITTING</td>\n",
       "      <td>-1.575809</td>\n",
       "      <td>-0.640703</td>\n",
       "      <td>-2.460251</td>\n",
       "      <td>-1.849850</td>\n",
       "      <td>0.174633</td>\n",
       "      <td>-0.151900</td>\n",
       "      <td>3.562269</td>\n",
       "      <td>-5.978664</td>\n",
       "      <td>3.611319</td>\n",
       "      <td>...</td>\n",
       "      <td>5.012806</td>\n",
       "      <td>3.784507</td>\n",
       "      <td>4.524738</td>\n",
       "      <td>-6.202087</td>\n",
       "      <td>2.763802</td>\n",
       "      <td>-0.913074</td>\n",
       "      <td>-0.991923</td>\n",
       "      <td>2.783184</td>\n",
       "      <td>0.946387</td>\n",
       "      <td>2.0</td>\n",
       "    </tr>\n",
       "    <tr>\n",
       "      <th>7</th>\n",
       "      <td>STANDING</td>\n",
       "      <td>-1.567323</td>\n",
       "      <td>-0.857850</td>\n",
       "      <td>-2.490082</td>\n",
       "      <td>-1.832982</td>\n",
       "      <td>0.112276</td>\n",
       "      <td>-0.738710</td>\n",
       "      <td>7.961757</td>\n",
       "      <td>-9.302665</td>\n",
       "      <td>3.623865</td>\n",
       "      <td>...</td>\n",
       "      <td>5.060179</td>\n",
       "      <td>2.089889</td>\n",
       "      <td>5.362029</td>\n",
       "      <td>-0.555530</td>\n",
       "      <td>3.272104</td>\n",
       "      <td>-0.942724</td>\n",
       "      <td>-1.030745</td>\n",
       "      <td>-2.238799</td>\n",
       "      <td>2.010097</td>\n",
       "      <td>1.0</td>\n",
       "    </tr>\n",
       "    <tr>\n",
       "      <th>...</th>\n",
       "      <td>...</td>\n",
       "      <td>...</td>\n",
       "      <td>...</td>\n",
       "      <td>...</td>\n",
       "      <td>...</td>\n",
       "      <td>...</td>\n",
       "      <td>...</td>\n",
       "      <td>...</td>\n",
       "      <td>...</td>\n",
       "      <td>...</td>\n",
       "      <td>...</td>\n",
       "      <td>...</td>\n",
       "      <td>...</td>\n",
       "      <td>...</td>\n",
       "      <td>...</td>\n",
       "      <td>...</td>\n",
       "      <td>...</td>\n",
       "      <td>...</td>\n",
       "      <td>...</td>\n",
       "      <td>...</td>\n",
       "      <td>...</td>\n",
       "    </tr>\n",
       "    <tr>\n",
       "      <th>11080</th>\n",
       "      <td>WALKING_DOWNSTAIRS</td>\n",
       "      <td>-1.575492</td>\n",
       "      <td>-0.614487</td>\n",
       "      <td>-2.452436</td>\n",
       "      <td>-1.732651</td>\n",
       "      <td>-0.418138</td>\n",
       "      <td>1.768320</td>\n",
       "      <td>5.163003</td>\n",
       "      <td>-4.868354</td>\n",
       "      <td>0.507122</td>\n",
       "      <td>...</td>\n",
       "      <td>4.044203</td>\n",
       "      <td>4.604386</td>\n",
       "      <td>2.021879</td>\n",
       "      <td>-3.945744</td>\n",
       "      <td>1.298908</td>\n",
       "      <td>-0.769566</td>\n",
       "      <td>-0.737230</td>\n",
       "      <td>-1.986261</td>\n",
       "      <td>-1.792696</td>\n",
       "      <td>1.0</td>\n",
       "    </tr>\n",
       "    <tr>\n",
       "      <th>11081</th>\n",
       "      <td>WALKING_UPSTAIRS</td>\n",
       "      <td>-1.568669</td>\n",
       "      <td>-0.612620</td>\n",
       "      <td>-2.488338</td>\n",
       "      <td>-1.751117</td>\n",
       "      <td>0.218134</td>\n",
       "      <td>0.280294</td>\n",
       "      <td>7.953403</td>\n",
       "      <td>-0.679894</td>\n",
       "      <td>2.512880</td>\n",
       "      <td>...</td>\n",
       "      <td>4.565443</td>\n",
       "      <td>4.440779</td>\n",
       "      <td>3.288399</td>\n",
       "      <td>-2.689605</td>\n",
       "      <td>1.705341</td>\n",
       "      <td>-0.822617</td>\n",
       "      <td>-0.572410</td>\n",
       "      <td>3.534816</td>\n",
       "      <td>-0.544652</td>\n",
       "      <td>2.0</td>\n",
       "    </tr>\n",
       "    <tr>\n",
       "      <th>11083</th>\n",
       "      <td>WALKING_UPSTAIRS</td>\n",
       "      <td>-1.569815</td>\n",
       "      <td>-0.794940</td>\n",
       "      <td>-2.482325</td>\n",
       "      <td>-1.784151</td>\n",
       "      <td>0.021844</td>\n",
       "      <td>-0.740329</td>\n",
       "      <td>8.005261</td>\n",
       "      <td>-11.916107</td>\n",
       "      <td>2.644861</td>\n",
       "      <td>...</td>\n",
       "      <td>4.453514</td>\n",
       "      <td>4.302852</td>\n",
       "      <td>2.979961</td>\n",
       "      <td>-6.032382</td>\n",
       "      <td>1.853029</td>\n",
       "      <td>-0.802817</td>\n",
       "      <td>0.041975</td>\n",
       "      <td>3.427548</td>\n",
       "      <td>-0.075184</td>\n",
       "      <td>1.0</td>\n",
       "    </tr>\n",
       "    <tr>\n",
       "      <th>11084</th>\n",
       "      <td>WALKING_DOWNSTAIRS</td>\n",
       "      <td>-1.574768</td>\n",
       "      <td>-0.752847</td>\n",
       "      <td>-2.449529</td>\n",
       "      <td>-1.737755</td>\n",
       "      <td>-0.189761</td>\n",
       "      <td>-0.454246</td>\n",
       "      <td>8.054443</td>\n",
       "      <td>-5.611277</td>\n",
       "      <td>2.473134</td>\n",
       "      <td>...</td>\n",
       "      <td>4.615939</td>\n",
       "      <td>4.443277</td>\n",
       "      <td>3.208597</td>\n",
       "      <td>-6.200222</td>\n",
       "      <td>1.675269</td>\n",
       "      <td>-0.828934</td>\n",
       "      <td>-0.877004</td>\n",
       "      <td>3.385405</td>\n",
       "      <td>-0.383217</td>\n",
       "      <td>3.0</td>\n",
       "    </tr>\n",
       "    <tr>\n",
       "      <th>11085</th>\n",
       "      <td>WALKING</td>\n",
       "      <td>-1.573186</td>\n",
       "      <td>-0.584008</td>\n",
       "      <td>-2.469062</td>\n",
       "      <td>-1.770029</td>\n",
       "      <td>-0.589358</td>\n",
       "      <td>-1.695744</td>\n",
       "      <td>7.306605</td>\n",
       "      <td>-11.917694</td>\n",
       "      <td>2.972936</td>\n",
       "      <td>...</td>\n",
       "      <td>4.734942</td>\n",
       "      <td>4.304923</td>\n",
       "      <td>3.757613</td>\n",
       "      <td>-2.112537</td>\n",
       "      <td>2.081746</td>\n",
       "      <td>-0.843569</td>\n",
       "      <td>-0.423656</td>\n",
       "      <td>1.397488</td>\n",
       "      <td>0.244843</td>\n",
       "      <td>1.0</td>\n",
       "    </tr>\n",
       "  </tbody>\n",
       "</table>\n",
       "<p>8937 rows × 571 columns</p>\n",
       "</div>"
      ],
      "text/plain": [
       "                 Activity  angle(X,gravityMean)  angle(Y,gravityMean)  \\\n",
       "0                STANDING             -1.574191             -0.805700   \n",
       "1        WALKING_UPSTAIRS             -1.568669             -0.612620   \n",
       "3                 WALKING             -1.574094             -0.793443   \n",
       "5                 SITTING             -1.575809             -0.640703   \n",
       "7                STANDING             -1.567323             -0.857850   \n",
       "...                   ...                   ...                   ...   \n",
       "11080  WALKING_DOWNSTAIRS             -1.575492             -0.614487   \n",
       "11081    WALKING_UPSTAIRS             -1.568669             -0.612620   \n",
       "11083    WALKING_UPSTAIRS             -1.569815             -0.794940   \n",
       "11084  WALKING_DOWNSTAIRS             -1.574768             -0.752847   \n",
       "11085             WALKING             -1.573186             -0.584008   \n",
       "\n",
       "       angle(Z,gravityMean)  angle(tBodyAccJerkMean),gravityMean)  \\\n",
       "0                 -2.453831                             -1.861714   \n",
       "1                 -2.488338                             -1.751117   \n",
       "3                 -2.449959                             -1.842741   \n",
       "5                 -2.460251                             -1.849850   \n",
       "7                 -2.490082                             -1.832982   \n",
       "...                     ...                                   ...   \n",
       "11080             -2.452436                             -1.732651   \n",
       "11081             -2.488338                             -1.751117   \n",
       "11083             -2.482325                             -1.784151   \n",
       "11084             -2.449529                             -1.737755   \n",
       "11085             -2.469062                             -1.770029   \n",
       "\n",
       "       angle(tBodyAccMean,gravity)  angle(tBodyGyroJerkMean,gravityMean)  \\\n",
       "0                         0.115517                             -2.023369   \n",
       "1                         0.218134                              0.280294   \n",
       "3                        -0.195625                             -0.950671   \n",
       "5                         0.174633                             -0.151900   \n",
       "7                         0.112276                             -0.738710   \n",
       "...                            ...                                   ...   \n",
       "11080                    -0.418138                              1.768320   \n",
       "11081                     0.218134                              0.280294   \n",
       "11083                     0.021844                             -0.740329   \n",
       "11084                    -0.189761                             -0.454246   \n",
       "11085                    -0.589358                             -1.695744   \n",
       "\n",
       "       angle(tBodyGyroMean,gravityMean)  energy-mean()  \\\n",
       "0                              3.125860      -9.474436   \n",
       "1                              7.953403      -0.679894   \n",
       "3                              2.104353     -11.906121   \n",
       "5                              3.562269      -5.978664   \n",
       "7                              7.961757      -9.302665   \n",
       "...                                 ...            ...   \n",
       "11080                          5.163003      -4.868354   \n",
       "11081                          7.953403      -0.679894   \n",
       "11083                          8.005261     -11.916107   \n",
       "11084                          8.054443      -5.611277   \n",
       "11085                          7.306605     -11.917694   \n",
       "\n",
       "       fBodyAcc-bandsEnergy()-1,16  ...  tGravityAccMag-energy()  \\\n",
       "0                         3.622600  ...                 5.049130   \n",
       "1                         2.512880  ...                 4.565443   \n",
       "3                         3.355701  ...                 4.860758   \n",
       "5                         3.611319  ...                 5.012806   \n",
       "7                         3.623865  ...                 5.060179   \n",
       "...                            ...  ...                      ...   \n",
       "11080                     0.507122  ...                 4.044203   \n",
       "11081                     2.512880  ...                 4.565443   \n",
       "11083                     2.644861  ...                 4.453514   \n",
       "11084                     2.473134  ...                 4.615939   \n",
       "11085                     2.972936  ...                 4.734942   \n",
       "\n",
       "       tGravityAccMag-entropy()  tGravityAccMag-iqr()  tGravityAccMag-mad()  \\\n",
       "0                      3.272281              5.103018             -0.823302   \n",
       "1                      4.440779              3.288399             -2.689605   \n",
       "3                      4.177535              3.950012             -0.322642   \n",
       "5                      3.784507              4.524738             -6.202087   \n",
       "7                      2.089889              5.362029             -0.555530   \n",
       "...                         ...                   ...                   ...   \n",
       "11080                  4.604386              2.021879             -3.945744   \n",
       "11081                  4.440779              3.288399             -2.689605   \n",
       "11083                  4.302852              2.979961             -6.032382   \n",
       "11084                  4.443277              3.208597             -6.200222   \n",
       "11085                  4.304923              3.757613             -2.112537   \n",
       "\n",
       "       tGravityAccMag-max()  tGravityAccMag-mean()  tGravityAccMag-min()  \\\n",
       "0                  3.063681              -0.928676             -1.007695   \n",
       "1                  1.705341              -0.822617             -0.572410   \n",
       "3                  2.366287              -0.866937             -0.696431   \n",
       "5                  2.763802              -0.913074             -0.991923   \n",
       "7                  3.272104              -0.942724             -1.030745   \n",
       "...                     ...                    ...                   ...   \n",
       "11080              1.298908              -0.769566             -0.737230   \n",
       "11081              1.705341              -0.822617             -0.572410   \n",
       "11083              1.853029              -0.802817              0.041975   \n",
       "11084              1.675269              -0.828934             -0.877004   \n",
       "11085              2.081746              -0.843569             -0.423656   \n",
       "\n",
       "       tGravityAccMag-sma()  tGravityAccMag-std()  void()  \n",
       "0                  3.094236              1.669987     1.0  \n",
       "1                 -2.187890             -0.544652     2.0  \n",
       "3                  1.863375              0.550414     2.0  \n",
       "5                  2.783184              0.946387     2.0  \n",
       "7                 -2.238799              2.010097     1.0  \n",
       "...                     ...                   ...     ...  \n",
       "11080             -1.986261             -1.792696     1.0  \n",
       "11081              3.534816             -0.544652     2.0  \n",
       "11083              3.427548             -0.075184     1.0  \n",
       "11084              3.385405             -0.383217     3.0  \n",
       "11085              1.397488              0.244843     1.0  \n",
       "\n",
       "[8937 rows x 571 columns]"
      ]
     },
     "execution_count": 8,
     "metadata": {},
     "output_type": "execute_result"
    }
   ],
   "source": [
    "train_data"
   ]
  },
  {
   "cell_type": "code",
   "execution_count": 9,
   "metadata": {
    "cell_id": "00009-30e96dea-0e09-4184-8427-1ee6a0b8b3a5",
    "deepnote_cell_type": "code",
    "deepnote_to_be_reexecuted": false,
    "execution_millis": 357,
    "execution_start": 1618042352329,
    "source_hash": "51f5525c",
    "tags": []
   },
   "outputs": [],
   "source": [
    "temp_data = train_data.copy(deep=False)\n",
    "temp_data.Activity = train_data.Activity.astype(\"category\").cat.codes\n",
    "\n",
    "sel = VarianceThreshold(threshold=.15)\n",
    "vt = sel.fit_transform(temp_data)\n",
    "cols = [train_data.columns[ix] for ix in sel.get_support(indices=True)]\n",
    "train_data = train_data[train_data.columns[sel.get_support(indices=True)]]"
   ]
  },
  {
   "cell_type": "markdown",
   "metadata": {},
   "source": [
    "W danych znajduje się wiele brakujących wartości. Aby poprawić jakoś zbioru danych zdecydowaliśmy się je uzupełnić. Dla każdej z aktywności, dla każdej z kolumn obliczamy średnią $\\mu$ oraz wartości odchylenia standardowego $\\sigma$. Następnie, każdą z brakujących ($m_{i,j}$) wartości estymujemy wartością pochodzącą z odpowiedniego dla danej kolumny i aktywności rozkładu $\\widehat{m}_{i,j} \\thicksim\\ \\mathcal{N}(\\mu,\\,\\sigma^{2})$. Takie podejście pozwala na powiększenie zbioru użytecznych danych przy jednoczesnym zachowaniu wariancji danych, co zapobiega przeuczeniu modelu."
   ]
  },
  {
   "cell_type": "code",
   "execution_count": 10,
   "metadata": {
    "cell_id": "00012-64b319e4-5f98-40d1-aa8f-71c6a8e7d493",
    "deepnote_cell_type": "code",
    "deepnote_to_be_reexecuted": false,
    "execution_millis": 23,
    "execution_start": 1618042353856,
    "source_hash": "6d1b38b6",
    "tags": []
   },
   "outputs": [
    {
     "name": "stderr",
     "output_type": "stream",
     "text": [
      "\n",
      "A value is trying to be set on a copy of a slice from a DataFrame.\n",
      "Try using .loc[row_indexer,col_indexer] = value instead\n",
      "\n",
      "See the caveats in the documentation: https://pandas.pydata.org/pandas-docs/stable/user_guide/indexing.html#returning-a-view-versus-a-copy\n"
     ]
    }
   ],
   "source": [
    "class imputer:\n",
    "    def __init__(self, df, cols):\n",
    "        self.__generator = np.random.default_rng()\n",
    "        self.__values = dict()\n",
    "        for col in cols:\n",
    "            self.__values[col] = [df[col].mean(\n",
    "                skipna=True), df[col].std(skipna=True)]\n",
    "\n",
    "    def fill(self, column_name):\n",
    "        mean = self.__values[column_name][0]\n",
    "        sd = self.__values[column_name][1]\n",
    "        return self.__generator.normal(loc=mean, scale=sd)\n",
    "\n",
    "final_data = pd.DataFrame()\n",
    "for act in ['SITTING', 'STANDING', 'WALKING', 'WALKING_DOWNSTAIRS', 'WALKING_UPSTAIRS']:\n",
    "\n",
    "    act_data = train_data[train_data[\"Activity\"] == act]\n",
    "    imp = imputer(act_data, cols[1:])\n",
    "    for col in cols[1:]:\n",
    "        act_data[col] = act_data[col].apply(\n",
    "            lambda x: imp.fill(col) if x != x else x)\n",
    "\n",
    "    if final_data.shape == (0, 0):\n",
    "        final_data = pd.DataFrame(act_data)\n",
    "    else:\n",
    "        final_data = pd.concat([final_data, act_data])\n",
    "train_data = final_data.copy(deep=False)\n",
    "y = train_data[\"Activity\"]\n",
    "X = train_data.iloc[:,2:]"
   ]
  },
  {
   "cell_type": "code",
   "execution_count": 11,
   "metadata": {
    "cell_id": "00014-7264b9cd-44aa-434c-9d19-6d0dc63d4013",
    "deepnote_cell_type": "code",
    "tags": []
   },
   "outputs": [],
   "source": [
    "X_train, X_test, y_train, y_test = train_test_split(X, y, test_size=0.25, random_state=42)"
   ]
  },
  {
   "cell_type": "code",
   "execution_count": 12,
   "metadata": {
    "cell_id": "00013-8f6ae7dc-7538-4ed2-be34-a1b1245f29a2",
    "deepnote_cell_type": "code",
    "deepnote_to_be_reexecuted": false,
    "execution_millis": 15578,
    "execution_start": 1618042355027,
    "source_hash": "271895f6",
    "tags": []
   },
   "outputs": [],
   "source": [
    "mi = []\n",
    "for feature, importance in zip(X.columns.values.tolist(), mutual_info_classif(X, y)):\n",
    "    mi.append([feature, importance])\n",
    "mi.sort(key=lambda x: x[1], reverse=True)"
   ]
  },
  {
   "cell_type": "code",
   "execution_count": 13,
   "metadata": {
    "cell_id": "00014-c17c2822-9949-4fe4-93d1-b3449552c952",
    "deepnote_cell_type": "code",
    "deepnote_to_be_reexecuted": false,
    "execution_millis": 1064596,
    "execution_start": 1618042373528,
    "source_hash": "9d9cf476",
    "tags": []
   },
   "outputs": [
    {
     "name": "stderr",
     "output_type": "stream",
     "text": [
      "The use of label encoder in XGBClassifier is deprecated and will be removed in a future release. To remove this warning, do the following: 1) Pass option use_label_encoder=False when constructing XGBClassifier object; and 2) Encode your labels (y) as integers starting with 0, i.e. 0, 1, 2, ..., [num_class - 1].\n"
     ]
    }
   ],
   "source": [
    "range_ = list(range(2, 30)) + list(range(40, 220, 10))\n",
    "results = []\n",
    "for features_n in range_:\n",
    "    mi_new = mi[:features_n]\n",
    "    mi_new = [x[0] for x in mi_new]\n",
    "    X_new = X.loc[:, mi_new]\n",
    "    X_train, X_test, y_train, y_test = train_test_split(X_new, y, test_size=0.25, random_state=2)\n",
    "    model = XGBClassifier(tree_method=\"approx\", verbosity=0).fit(X_train, y_train)\n",
    "    results.append([features_n, model.score(X_test, y_test)])"
   ]
  },
  {
   "cell_type": "code",
   "execution_count": 14,
   "metadata": {
    "cell_id": "00015-92c95c47-0e53-4dd3-8022-0d30bdbf9bbe",
    "deepnote_cell_type": "code",
    "tags": []
   },
   "outputs": [
    {
     "data": {
      "image/png": "[encoded data removed]",
      "text/plain": [
       "<Figure size 640x480 with 1 Axes>"
      ]
     },
     "metadata": {},
     "output_type": "display_data"
    },
    {
     "data": {
      "text/plain": [
       "<ggplot: (8733684430321)>"
      ]
     },
     "execution_count": 14,
     "metadata": {},
     "output_type": "execute_result"
    }
   ],
   "source": [
    "features_to_accuracy = results\n",
    "\n",
    "df = pd.DataFrame(data=features_to_accuracy, columns = ['Liczba cech', 'Dokładność klasyfikacji']) \n",
    "\n",
    "(ggplot(df, aes('Liczba cech', 'Dokładność klasyfikacji'))\n",
    " + ggtitle(\"Wpływ liczby cech na skuteczność modelu\")\n",
    " + geom_line(colour=\"#C70039\")\n",
    " + theme_classic())"
   ]
  },
  {
   "cell_type": "markdown",
   "metadata": {
    "cell_id": "00018-fba8de91-1dc3-4b51-bab6-e68ede2d1080",
    "deepnote_cell_type": "markdown",
    "tags": []
   },
   "source": [
    "Widać że dla modelu z przynajmniej 50 cechami, accuracy zmienia się nieznacznie."
   ]
  },
  {
   "cell_type": "markdown",
   "metadata": {
    "cell_id": "00018-0a751241-53ca-49b9-a439-bec016bb767a",
    "deepnote_cell_type": "text-cell-h1",
    "tags": []
   },
   "source": [
    "# Trenowanie modelu"
   ]
  },
  {
   "cell_type": "markdown",
   "metadata": {
    "cell_id": "00019-5c8da3a6-4809-4f7f-8268-06b867fc0282",
    "deepnote_cell_type": "markdown",
    "tags": []
   },
   "source": [
    "Po wyczyszczeniu danych i zredukowaniu wymiarów, dobieraliśmy model, który jeszcze bez parametryzacji dawał najbardziej obiecujące wyniki. Do ewaluacji każdego z modelów zastosowaliśmy walidację krzyżową K-Fold. Dane zostały podzielone na 10 części. Następnie model 10-krotnie był uczony, za każdym razem używając 10 innych części danych wejściowych. Pozostała część służyła do obliczania accuracy, to znaczy wartości opisującej stosunek liczby prawidłowo przewidzianych klas do wszyskich przypadków:\n",
    "$ Accuracy = \\frac{Liczba\\_prawidłowych\\_przewidywań}{Łączna\\_liczba\\_wysztkich\\_przewidywań} $. Na końcu, dla każdego modelu obliczyliśmy średnią wartość accuracy z 10 iteracji: $ score_{model} = \\frac{1}{10} \\sum_{i=1}^{10}accuracy_i $. Dla minimalizacji losowości, dla wszystkich modeli dane były dzielone oraz model był uczony przy tym samym seed.\n",
    "\n",
    "\n",
    "**Średnie accuracy z k-fold dla k=10**:\n",
    "\n",
    "XGBoost:\n",
    "- `XGBClassifier`:\n",
    "    - `exact` - 0.9871061134514049\n",
    "    - `approx` - 0.9881153337057672\n",
    "    - `gpu_hist` - 0.9868822756715133\n",
    "    - `hist` - 0.987667029034742\n",
    "- `XGBRFClassifier`:\n",
    "    - `exact` - 0.9557119526103083\n",
    "    - `approx` - 0.9561600056368367\n",
    "    - `gpu_hist` - 0.9328399842973834\n",
    "    - `hist` - 0.9551505337379776\n",
    "\n",
    "CatBoost\n",
    " - `CatBoostClassifier` - 0.9880031002602007\n",
    "\n",
    "scikit-learn:\n",
    "- `RandomForestClassifier` - 0.9790336096389908\n",
    "- `LogisticRegression` - 0.9473031259279392\n",
    "- `ExtraTreeClassifier` - 0.9080621863880458\n",
    "- `DecisionTreeClassifier` - 0.9414734036931348\n",
    "- `BernoulliNB` - 0.7154376349443614\n",
    "- `GradientBoostingClassifier` - 0.9807156014555117\n",
    "\n",
    "Po otrzymaniu tych wyników zdecydowaliśmy się na rozwijanie modelu XGBClassifier. Model ten wyróżnia również szybkość działania oraz dbałość o możliwe zmniejszanie złożoności, co stanowiło dodatkowe zalety, potwierdzające słuszność naszego wyboru. Dodatkowo niezwykłym atutem naszego modelu jest jego wytłumaczalność - w przeciwieństwie do głębokich sieci neuronowych możemy **prosto zwizualizować jego działanie**. Dzięki temu za pomocą wyciągniętej przez model wiedzy, zadając **nie więcej niż pięć pytań** (taka jest głębokość naszego drzewa) dokonujemy decyzji o klasie - tym samym efektywne zastosowanie modelu nie wymaga nawet urządzenia elektronicznego. Każda osoba posiadająca wydruk naszego drzewa jest w stanie skutecznie zakwalifikować nowy rekord."
   ]
  },
  {
   "cell_type": "markdown",
   "metadata": {
    "cell_id": "00023-e79e1b8c-a02a-4f08-82de-3532477b74f3",
    "deepnote_cell_type": "markdown",
    "tags": []
   },
   "source": [
    "Po próbowaniu różnych wartości parametrów dla modelu XGBClassifier zdecydowaliśmy się na następujące wartości:\n",
    "- `tree_method='approx'`\n",
    "- `eval_metric='merror'`"
   ]
  },
  {
   "cell_type": "code",
   "execution_count": 15,
   "metadata": {
    "cell_id": "00020-afcb1ea7-38cc-447c-b608-c6f0f45115f8",
    "deepnote_cell_type": "code",
    "deepnote_to_be_reexecuted": false,
    "execution_millis": 50384,
    "execution_start": 1618048803002,
    "source_hash": "7fae6b17",
    "tags": []
   },
   "outputs": [
    {
     "name": "stderr",
     "output_type": "stream",
     "text": [
      "The use of label encoder in XGBClassifier is deprecated and will be removed in a future release. To remove this warning, do the following: 1) Pass option use_label_encoder=False when constructing XGBClassifier object; and 2) Encode your labels (y) as integers starting with 0, i.e. 0, 1, 2, ..., [num_class - 1].\n"
     ]
    }
   ],
   "source": [
    "model = xgboost.XGBClassifier(tree_method='approx', eval_metric='merror', verbosity=0).fit(X_train, y_train)"
   ]
  },
  {
   "cell_type": "code",
   "execution_count": 16,
   "metadata": {
    "cell_id": "00021-ce35d347-a608-4314-b091-41a71465cce5",
    "deepnote_cell_type": "code",
    "deepnote_to_be_reexecuted": false,
    "execution_millis": 136,
    "execution_start": 1618043785216,
    "source_hash": "6e4b2061",
    "tags": []
   },
   "outputs": [
    {
     "data": {
      "text/html": [
       "<div>\n",
       "<style scoped>\n",
       "    .dataframe tbody tr th:only-of-type {\n",
       "        vertical-align: middle;\n",
       "    }\n",
       "\n",
       "    .dataframe tbody tr th {\n",
       "        vertical-align: top;\n",
       "    }\n",
       "\n",
       "    .dataframe thead th {\n",
       "        text-align: right;\n",
       "    }\n",
       "</style>\n",
       "<table border=\"1\" class=\"dataframe\">\n",
       "  <thead>\n",
       "    <tr style=\"text-align: right;\">\n",
       "      <th></th>\n",
       "      <th>0</th>\n",
       "      <th>1</th>\n",
       "      <th>2</th>\n",
       "      <th>3</th>\n",
       "      <th>4</th>\n",
       "    </tr>\n",
       "  </thead>\n",
       "  <tbody>\n",
       "    <tr>\n",
       "      <th>0</th>\n",
       "      <td>500</td>\n",
       "      <td>17</td>\n",
       "      <td>0</td>\n",
       "      <td>0</td>\n",
       "      <td>0</td>\n",
       "    </tr>\n",
       "    <tr>\n",
       "      <th>1</th>\n",
       "      <td>10</td>\n",
       "      <td>479</td>\n",
       "      <td>0</td>\n",
       "      <td>0</td>\n",
       "      <td>0</td>\n",
       "    </tr>\n",
       "    <tr>\n",
       "      <th>2</th>\n",
       "      <td>0</td>\n",
       "      <td>0</td>\n",
       "      <td>451</td>\n",
       "      <td>2</td>\n",
       "      <td>0</td>\n",
       "    </tr>\n",
       "    <tr>\n",
       "      <th>3</th>\n",
       "      <td>0</td>\n",
       "      <td>0</td>\n",
       "      <td>5</td>\n",
       "      <td>330</td>\n",
       "      <td>2</td>\n",
       "    </tr>\n",
       "    <tr>\n",
       "      <th>4</th>\n",
       "      <td>0</td>\n",
       "      <td>0</td>\n",
       "      <td>2</td>\n",
       "      <td>1</td>\n",
       "      <td>431</td>\n",
       "    </tr>\n",
       "  </tbody>\n",
       "</table>\n",
       "</div>"
      ],
      "text/plain": [
       "     0    1    2    3    4\n",
       "0  500   17    0    0    0\n",
       "1   10  479    0    0    0\n",
       "2    0    0  451    2    0\n",
       "3    0    0    5  330    2\n",
       "4    0    0    2    1  431"
      ]
     },
     "execution_count": 16,
     "metadata": {},
     "output_type": "execute_result"
    }
   ],
   "source": [
    "y_pred = model.predict(X_test)\n",
    "pd.DataFrame(confusion_matrix(y_test, y_pred, labels=['SITTING', 'STANDING', 'WALKING', 'WALKING_DOWNSTAIRS', 'WALKING_UPSTAIRS']))"
   ]
  },
  {
   "cell_type": "markdown",
   "metadata": {
    "cell_id": "00023-6bfd9027-56fb-4040-8ed2-451aae63e324",
    "deepnote_cell_type": "markdown",
    "tags": []
   },
   "source": [
    "Dane, które uzyskujemy dzięki policzeniu confusion matrix wskazują, że najczęściej mylone były:\n",
    "- siedzenie ze staniem - w obu sytuacjach człowiek się nie przemieszcza i znajduje się w pozycji pionowej, ruch wokół osi Y ciała odczytywany z żyroskopu może wskazywać na stanie\n",
    "- chodzenie z wchodzeniem po schodach - chociaż w większości przypadków odczyt przyspieszenia na osi Y odczytywany z akcelerometru powinien wykluczać pomyłkę, naturalne nierówności terenu mogą błędnie sugerować wchodzenie po schodach\n",
    "- wchodzenie oraz schodzenie po schodach - chociaż teoretycznie czynności te są trudne do pomylenia - różnią się szybkością wykonywania, odczytami z akcelerometru, innym chodem człowieka, a więc innymi odczytami z żyroskopu, tu również zdarzały się pomyłki; były najprawdopodobniej związane z podobnym chodem w obu kierunkach lub niejednoznacznym ruchem, tzn. ktoś mógł wejść po schodach i od razu zejść.\n",
    "\n",
    "Zdecydowanie najczęściej mylone są siedzenie i stanie, wynik ten można by skorygować obserwując, czy nastąpiło siadanie lub wstawanie, a więc gwałtowny, krótki ruch wzdłuż osi Y zanim została wykonana mierzona czynność. Pomyłki związane ze schodami są znacznie rzadsze i trudniejsze do jednoznacznej korekty."
   ]
  },
  {
   "cell_type": "markdown",
   "metadata": {
    "cell_id": "00023-ffe6ee5c-d12b-48a9-a2ca-60ff78f41eea",
    "deepnote_cell_type": "markdown",
    "tags": []
   },
   "source": [
    "W celu dalszego zredukowania wymiarowości modelu, wyliczamy permutation importance dla cech z których korzysta. "
   ]
  },
  {
   "cell_type": "code",
   "execution_count": 17,
   "metadata": {
    "cell_id": "00012-d7a7bee5-6cfe-4e35-9676-bce46c39a412",
    "deepnote_cell_type": "code",
    "deepnote_to_be_reexecuted": false,
    "execution_millis": 2039,
    "execution_start": 1618043919757,
    "source_hash": "57935941",
    "tags": []
   },
   "outputs": [],
   "source": [
    "perm = PermutationImportance(model).fit(X_test, y_test)\n",
    "imp = list(zip(X_test.columns.tolist(), perm.feature_importances_))\n",
    "features = []\n",
    "for feature in imp:\n",
    "    if feature[1] > 0:\n",
    "        features.append(feature[0])"
   ]
  },
  {
   "cell_type": "markdown",
   "metadata": {
    "cell_id": "00026-5ca7aa1a-e677-4e83-8b58-437597934cbd",
    "deepnote_cell_type": "markdown",
    "tags": []
   },
   "source": [
    "Widzimy że model został zredukowany do jedynie X cech. Jest to istotne dla naszego problemu ponieważ chcemy zminimalizować potrzebną moc zasobową. Dzięki temu nasz model będzie wykonywał się w **krótszym czasie** i będzie potrzebował **mniej energi**.\n",
    "\n",
    "Na ograniczonym zbiorze cech ponownie wyuczamy model:"
   ]
  },
  {
   "cell_type": "code",
   "execution_count": 18,
   "metadata": {},
   "outputs": [],
   "source": [
    "features = ['fBodyAccJerk-mad()-Z',\n",
    "            'fBodyAccMag-meanFreq()',\n",
    "            'tBodyAcc-arCoeff()-X,1',\n",
    "            'tGravityAcc-entropy()-Y',\n",
    "            'fBodyGyro-bandsEnergy()-1,16.2',\n",
    "            'tBodyGyroJerk-iqr()-X',\n",
    "            'fBodyAcc-kurtosis()-X',\n",
    "            'fBodyAccJerk-mean()-Z',\n",
    "            'fBodyAccMag-mean()',\n",
    "            'fBodyBodyGyroJerkMag-skewness()',\n",
    "            'tBodyAcc-min()-Z',\n",
    "            'tBodyGyro-sma()',\n",
    "            'tBodyGyroJerk-arCoeff()-Z,2',\n",
    "            'tBodyGyroJerkMag-mad()',\n",
    "            'tGravityAccMag-arCoeff()1',\n",
    "            'fBodyAccMag-energy()',\n",
    "            'fBodyAccJerk-kurtosis()-Z',\n",
    "            'fBodyAccJerk-skewness()-X',\n",
    "            'fBodyGyro-mean()-Z',\n",
    "            'tBodyAcc-max()-Z',\n",
    "            'tBodyAccJerk-arCoeff()-Z,3',\n",
    "            'tBodyGyro-arCoeff()-X,4',\n",
    "            'tBodyGyro-max()-Z',\n",
    "            'tGravityAcc-mean()-X',\n",
    "            'tGravityAcc-mean()-Z',\n",
    "            'fBodyAccJerk-bandsEnergy()-1,16.1',\n",
    "            'fBodyAccJerk-sma()',\n",
    "            'fBodyAccMag-entropy()',\n",
    "            'fBodyBodyGyroJerkMag-sma()',\n",
    "            'fBodyGyro-entropy()-Y',\n",
    "            'tBodyGyro-min()-Y',\n",
    "            'fBodyBodyGyroJerkMag-max()',\n",
    "            'angle(tBodyGyroMean,gravityMean)',\n",
    "            'tBodyAccJerk-iqr()-Y',\n",
    "            'tBodyGyroJerk-correlation()-X,Z',\n",
    "            'tGravityAcc-arCoeff()-Z,4',\n",
    "            'tBodyGyroJerk-std()-X',\n",
    "            'fBodyBodyAccJerkMag-max()',\n",
    "            'tBodyAcc-sma()',\n",
    "            'tBodyAccMag-mean()',\n",
    "            'tBodyGyro-correlation()-X,Y',\n",
    "            'fBodyAcc-std()-Y',\n",
    "            'fBodyAccJerk-meanFreq()-X',\n",
    "            'tBodyGyro-iqr()-Y',\n",
    "            'tGravityAccMag-arCoeff()4',\n",
    "            'fBodyBodyAccJerkMag-skewness()',\n",
    "            'tGravityAcc-min()-Z',\n",
    "            'fBodyGyro-bandsEnergy()-1,8.2',\n",
    "            'fBodyAcc-std()-X',\n",
    "            'tBodyAccMag-energy()',\n",
    "            'fBodyAcc-bandsEnergy()-9,16',\n",
    "            'fBodyGyro-kurtosis()-Z',\n",
    "            'fBodyAccJerk-std()-Z',\n",
    "            'tBodyAccJerk-min()-Y',\n",
    "            'tBodyAccMag-mad()',\n",
    "            'tBodyGyro-mad()-X',\n",
    "            'fBodyGyro-max()-X',\n",
    "            'tGravityAcc-arCoeff()-Y,4',\n",
    "            'tBodyAcc-entropy()-Y',\n",
    "            'fBodyAcc-bandsEnergy()-1,16',\n",
    "            'fBodyAccJerk-meanFreq()-Z',\n",
    "            'tBodyAcc-std()-Z',\n",
    "            'tGravityAcc-max()-X',\n",
    "            'tGravityAcc-max()-Z',\n",
    "            'tBodyGyro-iqr()-Z',\n",
    "            'fBodyAcc-max()-Y',\n",
    "            'fBodyAcc-sma()',\n",
    "            'fBodyAccJerk-bandsEnergy()-1,8',\n",
    "            'fBodyGyro-skewness()-Z',\n",
    "            'fBodyAccMag-mad()',\n",
    "            'fBodyGyro-mad()-X',\n",
    "            'tGravityAcc-energy()-Y',\n",
    "            'tGravityAcc-arCoeff()-Z,3',\n",
    "            'tBodyAcc-max()-X',\n",
    "            'tBodyAccJerk-max()-Z',\n",
    "            'tBodyAccJerk-entropy()-X',\n",
    "            'fBodyGyro-maxInds-Z',\n",
    "            'fBodyAccMag-std()',\n",
    "            'tBodyGyro-iqr()-X',\n",
    "            'tBodyGyro-max()-X',\n",
    "            'tGravityAcc-mean()-Y']"
   ]
  },
  {
   "cell_type": "markdown",
   "metadata": {},
   "source": [
    "Widzimy że model został zredukowany do jedynie X cech. Jest to istotne dla naszego problemu ponieważ chcemy zminimalizować potrzebną moc zasobową. Dzięki temu nasz model będzie wykonywał się w **krótszym czasie** i będzie potrzebował **mniej energi**.\n",
    "\n",
    "Na ograniczonym zbiorze cech ponownie wyuczamy model:"
   ]
  },
  {
   "cell_type": "code",
   "execution_count": 19,
   "metadata": {
    "cell_id": "00027-ac5a476c-2869-47aa-818b-8701198a10fa",
    "deepnote_cell_type": "code",
    "tags": []
   },
   "outputs": [
    {
     "name": "stderr",
     "output_type": "stream",
     "text": [
      "\n",
      "A value is trying to be set on a copy of a slice from a DataFrame.\n",
      "Try using .loc[row_indexer,col_indexer] = value instead\n",
      "\n",
      "See the caveats in the documentation: https://pandas.pydata.org/pandas-docs/stable/user_guide/indexing.html#returning-a-view-versus-a-copy\n",
      "The use of label encoder in XGBClassifier is deprecated and will be removed in a future release. To remove this warning, do the following: 1) Pass option use_label_encoder=False when constructing XGBClassifier object; and 2) Encode your labels (y) as integers starting with 0, i.e. 0, 1, 2, ..., [num_class - 1].\n"
     ]
    }
   ],
   "source": [
    "y = train_data[\"Activity\"]\n",
    "X = train_data.loc[:, features]\n",
    "X_train, X_test, y_train, y_test = train_test_split(\n",
    "      X, y, test_size=0.25, random_state=42)\n",
    "\n",
    "model = xgboost.XGBClassifier(tree_method=\"approx\", verbosity=0).fit(X_train, y_train)"
   ]
  },
  {
   "cell_type": "code",
   "execution_count": 20,
   "metadata": {},
   "outputs": [
    {
     "data": {
      "text/plain": [
       "0.9852017937219731"
      ]
     },
     "execution_count": 20,
     "metadata": {},
     "output_type": "execute_result"
    }
   ],
   "source": [
    "model.score(X_test, y_test)"
   ]
  },
  {
   "cell_type": "markdown",
   "metadata": {},
   "source": [
    "Możemy zaobserwować, że mimo redukcji wymiarów **accuracy** naszego modelu nadal jest **bardzo wysokie**. Wyróżnia to nasz model, gdyż udało nam się nie tylko znacznie go uprościć, ale również nie utracić dokładności jego działania, która jest **prawie bezbłędna**."
   ]
  },
  {
   "cell_type": "markdown",
   "metadata": {
    "cell_id": "00029-91667cda-5530-46f7-ad98-9bfe7d4e8a17",
    "deepnote_cell_type": "text-cell-h2",
    "tags": []
   },
   "source": [
    "## Zrozumienie i interpretacja wyników"
   ]
  },
  {
   "cell_type": "markdown",
   "metadata": {
    "cell_id": "00030-d08e80e6-74fb-4b46-b1cb-56cc23b6b126",
    "deepnote_cell_type": "markdown",
    "tags": []
   },
   "source": [
    "Do interpretacji tego, jak działa nasz model, wykorzystaliśmy bibliotekę SHAP. Pozwala ona na utworzenie prostych wizualizacji, pokazujących które wartości są najistotniejsze dla wytrenowanego modelu."
   ]
  },
  {
   "cell_type": "code",
   "execution_count": 21,
   "metadata": {
    "cell_id": "00030-93c1f0f2-9585-4660-80c9-f8a51284bf6c",
    "deepnote_cell_type": "code",
    "tags": []
   },
   "outputs": [],
   "source": [
    "explainer = shap.TreeExplainer(model)\n",
    "shap_values = explainer.shap_values(X_test)"
   ]
  },
  {
   "cell_type": "markdown",
   "metadata": {
    "cell_id": "00032-3813ecc5-3c12-46a2-930b-ed1690d5822d",
    "deepnote_cell_type": "markdown",
    "tags": []
   },
   "source": [
    "Na początku wykonujemy wykres istotności cech dla wszystkich klas."
   ]
  },
  {
   "cell_type": "code",
   "execution_count": 22,
   "metadata": {
    "cell_id": "00031-34d38be5-e3c5-4d20-a367-f44f2c4f9b41",
    "colab": {
     "base_uri": "https://localhost:8080/",
     "height": 581
    },
    "deepnote_cell_type": "code",
    "id": "GFeb_TltF1U2",
    "outputId": "39f191ba-6d4e-4d88-8a93-906a523f0e93"
   },
   "outputs": [
    {
     "data": {
      "image/png": "[encoded data removed]",
      "text/plain": [
       "<Figure size 576x684 with 1 Axes>"
      ]
     },
     "metadata": {
      "needs_background": "light"
     },
     "output_type": "display_data"
    }
   ],
   "source": [
    "shap.summary_plot(shap_values, X_test, class_names=model.classes_)"
   ]
  },
  {
   "cell_type": "markdown",
   "metadata": {
    "cell_id": "00033-b00f2e44-49fb-45d4-a312-5c9d7898c656",
    "deepnote_cell_type": "markdown",
    "id": "e1If_GmUk2Tq"
   },
   "source": [
    "Możemy z niego wyczytać, że najważniejszymy cechami dla określenia pozycji osoby są tGravityAcc-mean()-Y (głównie dla siedzenia i stania) oraz tBodyAcc-max()-X (głównie dla wchodzenia i schodzenia po schodach). Dokładniejsza analiza powodu, dla którego akurat te cechy są istotne znajduje się poniżej.\n",
    "\n",
    "Następnie interpretujemy, które cechy są istotne do rozpoznania danej cechy i dlaczego:"
   ]
  },
  {
   "cell_type": "markdown",
   "metadata": {
    "cell_id": "00037-cdc3e10b-7987-4058-aafb-3324d12f8107",
    "deepnote_cell_type": "text-cell-h3",
    "tags": []
   },
   "source": [
    "### Laying"
   ]
  },
  {
   "cell_type": "markdown",
   "metadata": {
    "cell_id": "00038-4d7ca886-54f4-49a9-bebd-edbe369814de",
    "deepnote_cell_type": "markdown",
    "tags": []
   },
   "source": [
    "Klasa \"laying\" nie stanowiła części modelu, jako że klasyfikacja do tej klasy uzależniona była wyłącznie od tego, czy wartość cechy \"angle(X,gravityMean)\" była wyższa od -1.553 (a więc czy telefon był położony) i mogła zostać dokonana przed wykorzystaniem modelu. Zmniejszało do liczbę koniecznych operacji, a co za tym idzie, zużycie energii elektrycznej przez procesor."
   ]
  },
  {
   "cell_type": "markdown",
   "metadata": {
    "cell_id": "00036-d86be81e-8585-4080-ae09-86e4a19e8411",
    "deepnote_cell_type": "text-cell-h3",
    "tags": []
   },
   "source": [
    "### Sitting"
   ]
  },
  {
   "cell_type": "markdown",
   "metadata": {
    "cell_id": "00041-42a93e18-5a2b-4b12-855d-58f3bc2d555f",
    "deepnote_cell_type": "markdown",
    "tags": []
   },
   "source": [
    "Klasa \"sitting\" jest zależna przede wszystkim od:\n",
    "* rozstępu ćwiartkowego wartości sygnału żyroskopu przetworzonego dla osi X\n",
    "* maksymalnej wartości sygnału żyroskopu przetworzonego dla osi X\n",
    "* średniej wartości przyspieszenia liniowego ciała względem osi Y\n",
    "\n",
    "Znaczenie ma położenie telefonu względem osi X, co mierzone jest żyroskopem, a więc ruch względem osi pionowej użytkownika. Możemy to interpretować jako pewne \"kręcenie się\" w miejscu. Istotne są również odczyty akcelerometru względem osi Y - co jest skorelowane z odczytami z żyroskopu i oznacza pewne ruchy w miejscu, np. poprawianie pozycji."
   ]
  },
  {
   "cell_type": "markdown",
   "metadata": {},
   "source": [
    "<div><img title='sitting' src='../zdjęcia/sitting.png'></div>"
   ]
  },
  {
   "cell_type": "markdown",
   "metadata": {
    "cell_id": "00038-0d532d07-c085-4d30-8bc0-10d9c90391e1",
    "deepnote_cell_type": "text-cell-h3",
    "tags": []
   },
   "source": [
    "### Standing"
   ]
  },
  {
   "cell_type": "markdown",
   "metadata": {
    "cell_id": "00044-d43fc751-36dd-406c-84d1-26b29fd93fc9",
    "deepnote_cell_type": "markdown",
    "tags": []
   },
   "source": [
    "Klasa \"standing\" jest zależna przede wszystkim od:\n",
    "- prostej średniej kroczącej wartości akcelerometru po przetworzeniu sygnału szybką transformatą fouriera\n",
    "- rozstępu ćwiartkowego wartości sygnału żyroskopu przetworzonego dla osi Y\n",
    "- średniej wartości przyspieszenia liniowego ciała względem osi Y\n",
    "\n",
    "W przypadku stania największy wpływ na podjęcie decyzji mają ogólne odczyty z akcelerometru oraz żyroskopu w kontekście osi Y. Jak mogliśmy zauważyć przy confusion matrix oraz wykresów pokazujących znaczenie cech dla danych aktywności, klasa \"standing\" i \"sitting\" mają podobne \"wymagania\". Jednak podczas stania osoba mniej się \"buja\" ale ma większą swobodę przy obracaniu się."
   ]
  },
  {
   "cell_type": "markdown",
   "metadata": {},
   "source": [
    "<div><img title='standing' src='../zdjęcia/standing.png'></div>"
   ]
  },
  {
   "cell_type": "markdown",
   "metadata": {
    "cell_id": "00040-a1823b27-715b-4d7a-a1b0-dd51d0e30d39",
    "deepnote_cell_type": "text-cell-h3",
    "tags": []
   },
   "source": [
    "### Walking"
   ]
  },
  {
   "cell_type": "markdown",
   "metadata": {
    "cell_id": "00046-f9f563c9-d888-40f8-b7ee-2467d14e2743",
    "deepnote_cell_type": "markdown",
    "tags": []
   },
   "source": [
    "W przypadku klasy \"walking\" wyraźnie największy wpływ na zaklasyfikowanie danego wiersza ma: \n",
    "* zryw przyspieszenia akcelerometru\n",
    "* maksymalna wartość wielkości euklidesowej zrywu przyspieszenia ciała przetworzonego szybką transformatą fouriera\n",
    "* zmiana odczytów żyroskopu względem osi Z.\n",
    "\n",
    "Możemy wywnioskować, że istotny jest ruch odbierany przez akcelerometr oraz pewne bujanie tylko w osi Z"
   ]
  },
  {
   "cell_type": "markdown",
   "metadata": {},
   "source": [
    "<div><img title='walking' src='../zdjęcia/walking.png'></div>"
   ]
  },
  {
   "cell_type": "markdown",
   "metadata": {
    "cell_id": "00042-7df59000-cac7-4b7a-95c4-4b9edffd3a6f",
    "deepnote_cell_type": "text-cell-h3",
    "tags": []
   },
   "source": [
    "### Walking downstairs"
   ]
  },
  {
   "cell_type": "markdown",
   "metadata": {
    "cell_id": "00049-31ec2b5e-e815-4926-8967-3e444446c934",
    "deepnote_cell_type": "markdown",
    "tags": []
   },
   "source": [
    "Klasa \"Walking downstairs\" jest mocno uzależnione od przyspieszenia odbieranego akcelerometrem, czyli ruchu, przyspieszenia względem osi X, co wynika z ruchu do dołu. Skupiamy się tu na szybkości użytkownika. Jest to najszybszy rodzaj zmieniania pozycji wśród aktywności, dzięki poruszaniu się \"z przyśpieszeniem grawitacyjnym\"."
   ]
  },
  {
   "cell_type": "markdown",
   "metadata": {},
   "source": [
    "<div><img title='walking downstairs' src='../zdjęcia/walking_downstairs.png'></div>"
   ]
  },
  {
   "cell_type": "markdown",
   "metadata": {
    "cell_id": "00044-1b06b1c8-143c-4f1c-9c18-babf811c536a",
    "deepnote_cell_type": "text-cell-h3",
    "tags": []
   },
   "source": [
    "### Walking upstairs"
   ]
  },
  {
   "cell_type": "markdown",
   "metadata": {
    "cell_id": "00050-8c76d94d-c981-4639-9916-3ed494695e2e",
    "deepnote_cell_type": "markdown",
    "tags": []
   },
   "source": [
    "Klasa \"walking upstairs\" jest zależna przede wszystkim od maksymalnej wartości sygnału akceleratora przetworzonego osi X. Informacja ta przekazuje nam, że użytkownik przemieszcza się w górę. \n",
    "\n",
    "Ważny jest też odczyt żyroskopu i akceleratora względem osi Z ze względu na energiczne i niejednostajne ruchy do przodu podczas wchodzenia."
   ]
  },
  {
   "cell_type": "markdown",
   "metadata": {},
   "source": [
    "<div><img title='walking upstairs'src='../zdjęcia/walking_upstairs.png'></div>"
   ]
  },
  {
   "cell_type": "markdown",
   "metadata": {
    "cell_id": "00051-8723fdb1-5a43-40a0-a3d1-d5589a9d2cdf",
    "deepnote_cell_type": "markdown",
    "tags": []
   },
   "source": [
    "# Zastosowanie w biznesie"
   ]
  },
  {
   "cell_type": "markdown",
   "metadata": {
    "cell_id": "00052-9ee239ff-6b0b-40b5-8d91-93731c6b8b5c",
    "deepnote_cell_type": "markdown",
    "tags": []
   },
   "source": [
    "Model może się przydać do różnych zastosowań, między innymi do:\n",
    "* Smart Home\n",
    "    * Wyłączanie światła w domu za pomocą lokalizacji i sprawdzenia, czy osoba schodzi po schodach.\n",
    "* Monitorowania aktywności fizycznej - komunikaty typu \"Rusz się!\" kiedy użytkownik pozostaje za długo w spoczynku, podsumowanie czasu aktywności\n",
    "    * Budzenie podczas zaśnięcia podczas pracy/prowadzenia samochodu.\n",
    "        * Jeśli mamy telefon połączony z opaską/smartwatchem, możemy sprawdzić puls osoby, \n",
    "        * By polepszyć zdrowie użytkownika sprawdzamy, czy nie zasnął w pozycji niezdrowej dla jego ciała(siedzącej np. przed komputerem podczas hackathonu). Możemy wtedy obudzić użtkownika.\n",
    "* Monitorowanie osób starszych - możliwość reakcji, w przypadku gwałtownej zmiany pozycji, która może wskazywać na niebezpieczeństwo.\n",
    "Stworzone przez nas rozwiązanie "
   ]
  },
  {
   "cell_type": "markdown",
   "metadata": {
    "cell_id": "00057-30edf4e0-ed9c-4ecc-ad1d-29bab20184b5",
    "deepnote_cell_type": "text-cell-h1",
    "tags": []
   },
   "source": [
    "# Bibliografia"
   ]
  },
  {
   "cell_type": "markdown",
   "metadata": {
    "cell_id": "00057-088aeb81-9e52-46eb-990f-3107ecdc90ee",
    "deepnote_cell_type": "markdown",
    "tags": []
   },
   "source": [
    "\n",
    "1. [Energy Efficient Smartphone-Based Activity Recognition using Fixed-Point Arithmetic D. Anguita, A. Ghio, L. Oneto, X. Parra, Jorge Luis Reyes-Ortiz 2013](https://www.semanticscholar.org/paper/Energy-Efficient-Smartphone-Based-Activity-using-Anguita-Ghio/ed2cd4d99795a83a429d733e5cae5fab2dfb868f)       \n",
    "1. [Human Activity Recognition Using Smartphones Dataset](http://rstudio-pubs-static.s3.amazonaws.com/24009_c068b79c74ae4fec8913fc0bf7a8b451.html)     \n",
    "1. [Human Activity Recognition with Smartphones - Recordings of 30 study participants performing activities of daily living](https://www.kaggle.com/uciml/human-activity-recognition-with-smartphones)     \n",
    "1. [XGBoost documentation](https://xgboost.readthedocs.io/en/latest/treemethod.html)  \n",
    "1. [SHAP documentation](https://github.com/slundberg/shap)"
   ]
  }
 ],
 "metadata": {
  "colab": {
   "name": "bhl-hackathon.ipynb",
   "provenance": []
  },
  "deepnote": {},
  "deepnote_execution_queue": [],
  "deepnote_notebook_id": "d25f16c0-0255-4f65-a1a4-93b5001b2f1a",
  "kernelspec": {
   "display_name": "Python 3",
   "language": "python",
   "name": "python3"
  },
  "language_info": {
   "codemirror_mode": {
    "name": "ipython",
    "version": 3
   },
   "file_extension": ".py",
   "mimetype": "text/x-python",
   "name": "python",
   "nbconvert_exporter": "python",
   "pygments_lexer": "ipython3",
   "version": "3.8.5"
  },
  "toc": {
   "base_numbering": 1,
   "nav_menu": {},
   "number_sections": true,
   "sideBar": true,
   "skip_h1_title": false,
   "title_cell": "Table of Contents",
   "title_sidebar": "Contents",
   "toc_cell": false,
   "toc_position": {
    "height": "calc(100% - 180px)",
    "left": "10px",
    "top": "150px",
    "width": "165px"
   },
   "toc_section_display": true,
   "toc_window_display": true
  }
 },
 "nbformat": 4,
 "nbformat_minor": 1
}
